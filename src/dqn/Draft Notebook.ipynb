{
 "cells": [
  {
   "cell_type": "code",
   "execution_count": 1,
   "id": "3c1d2ab3",
   "metadata": {},
   "outputs": [],
   "source": [
    "import gym\n",
    "import minihack\n",
    "import matplotlib.pyplot as plt"
   ]
  },
  {
   "cell_type": "code",
   "execution_count": 2,
   "id": "96c56846",
   "metadata": {},
   "outputs": [],
   "source": [
    "env = gym.make(\"MiniHack-Quest-Hard-v0\", observation_keys=(\"glyphs\", \"chars\", \"colors\", \"pixel\"))"
   ]
  },
  {
   "cell_type": "code",
   "execution_count": 3,
   "id": "b9ca540e",
   "metadata": {},
   "outputs": [],
   "source": [
    "# dqn observation space, uses raw pixels data\n",
    "i = env.observation_space['pixel']"
   ]
  },
  {
   "cell_type": "code",
   "execution_count": 4,
   "id": "4f139fa2",
   "metadata": {},
   "outputs": [
    {
     "data": {
      "text/plain": [
       "(336, 1264, 3)"
      ]
     },
     "execution_count": 4,
     "metadata": {},
     "output_type": "execute_result"
    }
   ],
   "source": [
    "#\n",
    "i.shape"
   ]
  },
  {
   "cell_type": "code",
   "execution_count": 5,
   "id": "e641db33",
   "metadata": {},
   "outputs": [],
   "source": [
    "# Use this in the DQN model, should the number of layers change\n",
    "def conv_returns(w, k, s, p = 0):\n",
    "    return int((w-k+2*p)/s + 1 )"
   ]
  },
  {
   "cell_type": "code",
   "execution_count": 6,
   "id": "1aa5da98",
   "metadata": {},
   "outputs": [],
   "source": [
    "a = 336\n",
    "b = 1264\n",
    "#Kernel list\n",
    "kern_li = [8, 4, 3]\n",
    "# Stride list\n",
    "stride_li = [4, 2, 1]"
   ]
  },
  {
   "cell_type": "code",
   "execution_count": 7,
   "id": "2b5f9aa8",
   "metadata": {},
   "outputs": [
    {
     "name": "stdout",
     "output_type": "stream",
     "text": [
      "40 156\n"
     ]
    }
   ],
   "source": [
    "for i in range(3-1):\n",
    "    a = conv_returns(a, kern_li[i], stride_li[i])\n",
    "    b = conv_returns(b, kern_li[i], stride_li[i])\n",
    "print(a, b)"
   ]
  },
  {
   "cell_type": "code",
   "execution_count": null,
   "id": "90f74123",
   "metadata": {},
   "outputs": [],
   "source": []
  }
 ],
 "metadata": {
  "kernelspec": {
   "display_name": "Python 3",
   "language": "python",
   "name": "python3"
  },
  "language_info": {
   "codemirror_mode": {
    "name": "ipython",
    "version": 3
   },
   "file_extension": ".py",
   "mimetype": "text/x-python",
   "name": "python",
   "nbconvert_exporter": "python",
   "pygments_lexer": "ipython3",
   "version": "3.8.8"
  }
 },
 "nbformat": 4,
 "nbformat_minor": 5
}
