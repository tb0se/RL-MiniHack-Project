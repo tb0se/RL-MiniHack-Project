{
  "nbformat": 4,
  "nbformat_minor": 5,
  "metadata": {
    "kernelspec": {
      "display_name": "Python 3 (ipykernel)",
      "language": "python",
      "name": "python3"
    },
    "language_info": {
      "codemirror_mode": {
        "name": "ipython",
        "version": 3
      },
      "file_extension": ".py",
      "mimetype": "text/x-python",
      "name": "python",
      "nbconvert_exporter": "python",
      "pygments_lexer": "ipython3",
      "version": "3.8.12"
    },
    "colab": {
      "name": "REINFORCE.ipynb",
      "provenance": [],
      "collapsed_sections": [],
      "include_colab_link": true
    },
    "accelerator": "GPU"
  },
  "cells": [
    {
      "cell_type": "markdown",
      "metadata": {
        "id": "view-in-github",
        "colab_type": "text"
      },
      "source": [
        "<a href=\"https://colab.research.google.com/github/tb0se/RL-MiniHack-Project/blob/Dev/src/reinforce/REINFORCE.ipynb\" target=\"_parent\"><img src=\"https://colab.research.google.com/assets/colab-badge.svg\" alt=\"Open In Colab\"/></a>"
      ]
    },
    {
      "cell_type": "code",
      "metadata": {
        "colab": {
          "base_uri": "https://localhost:8080/"
        },
        "id": "Bws4X7sKpgI2",
        "outputId": "51fc7e22-5260-4805-b51c-0e5d4b417f99"
      },
      "source": [
        "# SETUP NLE(GOOGLE COLAB)\n",
        "\n",
        "# Python and most build deps\n",
        "!sudo apt update\n",
        "!sudo apt-get install -y build-essential autoconf libtool pkg-config python3-dev python3-pip python3-numpy git flex bison libbz2-dev\n",
        "\n",
        "# recent cmake version\n",
        "!wget -O - https://apt.kitware.com/keys/kitware-archive-latest.asc 2>/dev/null | sudo apt-key add -\n",
        "!sudo apt-add-repository 'deb https://apt.kitware.com/ubuntu/ bionic main'\n",
        "!sudo apt-get update && apt-get --allow-unauthenticated install -y cmake kitware-archive-keyring\n",
        "\n",
        "!sudo rm $(which cmake)\n",
        "!$(which cmake) --version"
      ],
      "id": "Bws4X7sKpgI2",
      "execution_count": 2,
      "outputs": [
        {
          "output_type": "stream",
          "name": "stdout",
          "text": [
            "\u001b[33m\r0% [Working]\u001b[0m\r            \rHit:1 http://archive.ubuntu.com/ubuntu bionic InRelease\n",
            "\u001b[33m\r0% [Waiting for headers] [Connecting to security.ubuntu.com (91.189.91.38)] [Co\u001b[0m\r                                                                               \rGet:2 http://archive.ubuntu.com/ubuntu bionic-updates InRelease [88.7 kB]\n",
            "\u001b[33m\r0% [2 InRelease 27.2 kB/88.7 kB 31%] [Connecting to security.ubuntu.com (91.189\u001b[0m\u001b[33m\r0% [1 InRelease gpgv 242 kB] [2 InRelease 30.1 kB/88.7 kB 34%] [Connecting to s\u001b[0m\r                                                                               \rGet:3 https://cloud.r-project.org/bin/linux/ubuntu bionic-cran40/ InRelease [3,626 B]\n",
            "\u001b[33m\r0% [1 InRelease gpgv 242 kB] [2 InRelease 75.0 kB/88.7 kB 85%] [Connecting to s\u001b[0m\u001b[33m\r0% [1 InRelease gpgv 242 kB] [2 InRelease 79.3 kB/88.7 kB 89%] [Connecting to s\u001b[0m\u001b[33m\r0% [1 InRelease gpgv 242 kB] [Waiting for headers] [Connecting to security.ubun\u001b[0m\r                                                                               \rGet:4 http://archive.ubuntu.com/ubuntu bionic-backports InRelease [74.6 kB]\n",
            "\u001b[33m\r0% [1 InRelease gpgv 242 kB] [4 InRelease 22.9 kB/74.6 kB 31%] [Connecting to s\u001b[0m\u001b[33m\r0% [1 InRelease gpgv 242 kB] [Waiting for headers] [Connecting to ppa.launchpad\u001b[0m\r                                                                               \rGet:5 http://ppa.launchpad.net/c2d4u.team/c2d4u4.0+/ubuntu bionic InRelease [15.9 kB]\n",
            "\u001b[33m\r0% [1 InRelease gpgv 242 kB] [Waiting for headers] [5 InRelease 2,572 B/15.9 kB\u001b[0m\u001b[33m\r0% [1 InRelease gpgv 242 kB] [Waiting for headers] [Connecting to ppa.launchpad\u001b[0m\r                                                                               \rHit:6 http://ppa.launchpad.net/cran/libgit2/ubuntu bionic InRelease\n",
            "\u001b[33m\r                                                                               \r0% [1 InRelease gpgv 242 kB] [Waiting for headers] [Waiting for headers]\u001b[0m\r                                                                        \rHit:7 http://ppa.launchpad.net/deadsnakes/ppa/ubuntu bionic InRelease\n",
            "\u001b[33m\r0% [1 InRelease gpgv 242 kB] [Waiting for headers] [Connecting to ppa.launchpad\u001b[0m\r                                                                               \rGet:8 http://security.ubuntu.com/ubuntu bionic-security InRelease [88.7 kB]\n",
            "Hit:9 http://ppa.launchpad.net/graphics-drivers/ppa/ubuntu bionic InRelease\n",
            "Ign:10 https://developer.download.nvidia.com/compute/cuda/repos/ubuntu1804/x86_64  InRelease\n",
            "Get:11 https://cloud.r-project.org/bin/linux/ubuntu bionic-cran40/ Packages [73.0 kB]\n",
            "Ign:12 https://developer.download.nvidia.com/compute/machine-learning/repos/ubuntu1804/x86_64  InRelease\n",
            "Get:13 https://developer.download.nvidia.com/compute/cuda/repos/ubuntu1804/x86_64  Release [696 B]\n",
            "Hit:14 https://developer.download.nvidia.com/compute/machine-learning/repos/ubuntu1804/x86_64  Release\n",
            "Get:15 https://developer.download.nvidia.com/compute/cuda/repos/ubuntu1804/x86_64  Release.gpg [836 B]\n",
            "Get:16 http://archive.ubuntu.com/ubuntu bionic-updates/universe amd64 Packages [2,218 kB]\n",
            "Get:17 http://archive.ubuntu.com/ubuntu bionic-updates/main amd64 Packages [2,864 kB]\n",
            "Get:18 http://archive.ubuntu.com/ubuntu bionic-updates/restricted amd64 Packages [697 kB]\n",
            "Get:19 http://archive.ubuntu.com/ubuntu bionic-updates/multiverse amd64 Packages [34.5 kB]\n",
            "Get:20 http://ppa.launchpad.net/c2d4u.team/c2d4u4.0+/ubuntu bionic/main Sources [1,813 kB]\n",
            "Get:21 http://ppa.launchpad.net/c2d4u.team/c2d4u4.0+/ubuntu bionic/main amd64 Packages [928 kB]\n",
            "Get:23 http://security.ubuntu.com/ubuntu bionic-security/multiverse amd64 Packages [26.8 kB]\n",
            "Get:24 https://developer.download.nvidia.com/compute/cuda/repos/ubuntu1804/x86_64  Packages [808 kB]\n",
            "Get:25 http://security.ubuntu.com/ubuntu bionic-security/universe amd64 Packages [1,437 kB]\n",
            "Get:26 http://security.ubuntu.com/ubuntu bionic-security/main amd64 Packages [2,400 kB]\n",
            "Get:27 http://security.ubuntu.com/ubuntu bionic-security/restricted amd64 Packages [637 kB]\n",
            "Fetched 14.2 MB in 3s (5,633 kB/s)\n",
            "Reading package lists... Done\n",
            "Building dependency tree       \n",
            "Reading state information... Done\n",
            "55 packages can be upgraded. Run 'apt list --upgradable' to see them.\n",
            "Reading package lists... Done\n",
            "Building dependency tree       \n",
            "Reading state information... Done\n",
            "build-essential is already the newest version (12.4ubuntu1).\n",
            "pkg-config is already the newest version (0.29.1-0ubuntu2).\n",
            "git is already the newest version (1:2.17.1-1ubuntu0.9).\n",
            "libbz2-dev is already the newest version (1.0.6-8.1ubuntu0.2).\n",
            "libbz2-dev set to manually installed.\n",
            "python3-dev is already the newest version (3.6.7-1~18.04).\n",
            "python3-dev set to manually installed.\n",
            "The following additional packages will be installed:\n",
            "  automake autotools-dev file libbison-dev libfl-dev libfl2 libmagic-mgc\n",
            "  libmagic1 libsigsegv2 m4 python-pip-whl python3-asn1crypto\n",
            "  python3-cffi-backend python3-crypto python3-cryptography python3-idna\n",
            "  python3-keyring python3-keyrings.alt python3-pkg-resources\n",
            "  python3-secretstorage python3-setuptools python3-six python3-wheel\n",
            "  python3-xdg\n",
            "Suggested packages:\n",
            "  autoconf-archive gnu-standards autoconf-doc gettext bison-doc flex-doc\n",
            "  libtool-doc gcj-jdk m4-doc python-crypto-doc python-cryptography-doc\n",
            "  python3-cryptography-vectors gnome-keyring libkf5wallet-bin\n",
            "  gir1.2-gnomekeyring-1.0 python-numpy-doc python3-nose python3-numpy-dbg\n",
            "  python-secretstorage-doc python-setuptools-doc\n",
            "The following NEW packages will be installed:\n",
            "  autoconf automake autotools-dev bison file flex libbison-dev libfl-dev\n",
            "  libfl2 libmagic-mgc libmagic1 libsigsegv2 libtool m4 python-pip-whl\n",
            "  python3-asn1crypto python3-cffi-backend python3-crypto python3-cryptography\n",
            "  python3-idna python3-keyring python3-keyrings.alt python3-numpy python3-pip\n",
            "  python3-pkg-resources python3-secretstorage python3-setuptools python3-six\n",
            "  python3-wheel python3-xdg\n",
            "0 upgraded, 30 newly installed, 0 to remove and 55 not upgraded.\n",
            "Need to get 7,314 kB of archives.\n",
            "After this operation, 33.3 MB of additional disk space will be used.\n",
            "Get:1 http://archive.ubuntu.com/ubuntu bionic/main amd64 libsigsegv2 amd64 2.12-1 [14.7 kB]\n",
            "Get:2 http://archive.ubuntu.com/ubuntu bionic/main amd64 m4 amd64 1.4.18-1 [197 kB]\n",
            "Get:3 http://archive.ubuntu.com/ubuntu bionic/main amd64 flex amd64 2.6.4-6 [316 kB]\n",
            "Get:4 http://archive.ubuntu.com/ubuntu bionic-updates/main amd64 libmagic-mgc amd64 1:5.32-2ubuntu0.4 [184 kB]\n",
            "Get:5 http://archive.ubuntu.com/ubuntu bionic-updates/main amd64 libmagic1 amd64 1:5.32-2ubuntu0.4 [68.6 kB]\n",
            "Get:6 http://archive.ubuntu.com/ubuntu bionic-updates/main amd64 file amd64 1:5.32-2ubuntu0.4 [22.1 kB]\n",
            "Get:7 http://archive.ubuntu.com/ubuntu bionic/main amd64 autoconf all 2.69-11 [322 kB]\n",
            "Get:8 http://archive.ubuntu.com/ubuntu bionic/main amd64 autotools-dev all 20180224.1 [39.6 kB]\n",
            "Get:9 http://archive.ubuntu.com/ubuntu bionic/main amd64 automake all 1:1.15.1-3ubuntu2 [509 kB]\n",
            "Get:10 http://archive.ubuntu.com/ubuntu bionic/main amd64 libbison-dev amd64 2:3.0.4.dfsg-1build1 [339 kB]\n",
            "Get:11 http://archive.ubuntu.com/ubuntu bionic/main amd64 bison amd64 2:3.0.4.dfsg-1build1 [266 kB]\n",
            "Get:12 http://archive.ubuntu.com/ubuntu bionic/main amd64 libfl2 amd64 2.6.4-6 [11.4 kB]\n",
            "Get:13 http://archive.ubuntu.com/ubuntu bionic/main amd64 libfl-dev amd64 2.6.4-6 [6,320 B]\n",
            "Get:14 http://archive.ubuntu.com/ubuntu bionic/main amd64 libtool all 2.4.6-2 [194 kB]\n",
            "Get:15 http://archive.ubuntu.com/ubuntu bionic-updates/universe amd64 python-pip-whl all 9.0.1-2.3~ubuntu1.18.04.5 [1,653 kB]\n",
            "Get:16 http://archive.ubuntu.com/ubuntu bionic/main amd64 python3-asn1crypto all 0.24.0-1 [72.8 kB]\n",
            "Get:17 http://archive.ubuntu.com/ubuntu bionic/main amd64 python3-cffi-backend amd64 1.11.5-1 [64.6 kB]\n",
            "Get:18 http://archive.ubuntu.com/ubuntu bionic/main amd64 python3-crypto amd64 2.6.1-8ubuntu2 [244 kB]\n",
            "Get:19 http://archive.ubuntu.com/ubuntu bionic/main amd64 python3-idna all 2.6-1 [32.5 kB]\n",
            "Get:20 http://archive.ubuntu.com/ubuntu bionic/main amd64 python3-six all 1.11.0-2 [11.4 kB]\n",
            "Get:21 http://archive.ubuntu.com/ubuntu bionic-updates/main amd64 python3-cryptography amd64 2.1.4-1ubuntu1.4 [220 kB]\n",
            "Get:22 http://archive.ubuntu.com/ubuntu bionic/main amd64 python3-secretstorage all 2.3.1-2 [12.1 kB]\n",
            "Get:23 http://archive.ubuntu.com/ubuntu bionic/main amd64 python3-keyring all 10.6.0-1 [26.7 kB]\n",
            "Get:24 http://archive.ubuntu.com/ubuntu bionic/main amd64 python3-keyrings.alt all 3.0-1 [16.6 kB]\n",
            "Get:25 http://archive.ubuntu.com/ubuntu bionic/main amd64 python3-numpy amd64 1:1.13.3-2ubuntu1 [1,943 kB]\n",
            "Get:26 http://archive.ubuntu.com/ubuntu bionic-updates/universe amd64 python3-pip all 9.0.1-2.3~ubuntu1.18.04.5 [114 kB]\n",
            "Get:27 http://archive.ubuntu.com/ubuntu bionic/main amd64 python3-pkg-resources all 39.0.1-2 [98.8 kB]\n",
            "Get:28 http://archive.ubuntu.com/ubuntu bionic/main amd64 python3-setuptools all 39.0.1-2 [248 kB]\n",
            "Get:29 http://archive.ubuntu.com/ubuntu bionic/universe amd64 python3-wheel all 0.30.0-0.2 [36.5 kB]\n",
            "Get:30 http://archive.ubuntu.com/ubuntu bionic-updates/main amd64 python3-xdg all 0.25-4ubuntu1.1 [31.3 kB]\n",
            "Fetched 7,314 kB in 0s (33.0 MB/s)\n",
            "debconf: unable to initialize frontend: Dialog\n",
            "debconf: (No usable dialog-like program is installed, so the dialog based frontend cannot be used. at /usr/share/perl5/Debconf/FrontEnd/Dialog.pm line 76, <> line 30.)\n",
            "debconf: falling back to frontend: Readline\n",
            "debconf: unable to initialize frontend: Readline\n",
            "debconf: (This frontend requires a controlling tty.)\n",
            "debconf: falling back to frontend: Teletype\n",
            "dpkg-preconfigure: unable to re-open stdin: \n",
            "Selecting previously unselected package libsigsegv2:amd64.\n",
            "(Reading database ... 155219 files and directories currently installed.)\n",
            "Preparing to unpack .../00-libsigsegv2_2.12-1_amd64.deb ...\n",
            "Unpacking libsigsegv2:amd64 (2.12-1) ...\n",
            "Selecting previously unselected package m4.\n",
            "Preparing to unpack .../01-m4_1.4.18-1_amd64.deb ...\n",
            "Unpacking m4 (1.4.18-1) ...\n",
            "Selecting previously unselected package flex.\n",
            "Preparing to unpack .../02-flex_2.6.4-6_amd64.deb ...\n",
            "Unpacking flex (2.6.4-6) ...\n",
            "Selecting previously unselected package libmagic-mgc.\n",
            "Preparing to unpack .../03-libmagic-mgc_1%3a5.32-2ubuntu0.4_amd64.deb ...\n",
            "Unpacking libmagic-mgc (1:5.32-2ubuntu0.4) ...\n",
            "Selecting previously unselected package libmagic1:amd64.\n",
            "Preparing to unpack .../04-libmagic1_1%3a5.32-2ubuntu0.4_amd64.deb ...\n",
            "Unpacking libmagic1:amd64 (1:5.32-2ubuntu0.4) ...\n",
            "Selecting previously unselected package file.\n",
            "Preparing to unpack .../05-file_1%3a5.32-2ubuntu0.4_amd64.deb ...\n",
            "Unpacking file (1:5.32-2ubuntu0.4) ...\n",
            "Selecting previously unselected package autoconf.\n",
            "Preparing to unpack .../06-autoconf_2.69-11_all.deb ...\n",
            "Unpacking autoconf (2.69-11) ...\n",
            "Selecting previously unselected package autotools-dev.\n",
            "Preparing to unpack .../07-autotools-dev_20180224.1_all.deb ...\n",
            "Unpacking autotools-dev (20180224.1) ...\n",
            "Selecting previously unselected package automake.\n",
            "Preparing to unpack .../08-automake_1%3a1.15.1-3ubuntu2_all.deb ...\n",
            "Unpacking automake (1:1.15.1-3ubuntu2) ...\n",
            "Selecting previously unselected package libbison-dev:amd64.\n",
            "Preparing to unpack .../09-libbison-dev_2%3a3.0.4.dfsg-1build1_amd64.deb ...\n",
            "Unpacking libbison-dev:amd64 (2:3.0.4.dfsg-1build1) ...\n",
            "Selecting previously unselected package bison.\n",
            "Preparing to unpack .../10-bison_2%3a3.0.4.dfsg-1build1_amd64.deb ...\n",
            "Unpacking bison (2:3.0.4.dfsg-1build1) ...\n",
            "Selecting previously unselected package libfl2:amd64.\n",
            "Preparing to unpack .../11-libfl2_2.6.4-6_amd64.deb ...\n",
            "Unpacking libfl2:amd64 (2.6.4-6) ...\n",
            "Selecting previously unselected package libfl-dev:amd64.\n",
            "Preparing to unpack .../12-libfl-dev_2.6.4-6_amd64.deb ...\n",
            "Unpacking libfl-dev:amd64 (2.6.4-6) ...\n",
            "Selecting previously unselected package libtool.\n",
            "Preparing to unpack .../13-libtool_2.4.6-2_all.deb ...\n",
            "Unpacking libtool (2.4.6-2) ...\n",
            "Selecting previously unselected package python-pip-whl.\n",
            "Preparing to unpack .../14-python-pip-whl_9.0.1-2.3~ubuntu1.18.04.5_all.deb ...\n",
            "Unpacking python-pip-whl (9.0.1-2.3~ubuntu1.18.04.5) ...\n",
            "Selecting previously unselected package python3-asn1crypto.\n",
            "Preparing to unpack .../15-python3-asn1crypto_0.24.0-1_all.deb ...\n",
            "Unpacking python3-asn1crypto (0.24.0-1) ...\n",
            "Selecting previously unselected package python3-cffi-backend.\n",
            "Preparing to unpack .../16-python3-cffi-backend_1.11.5-1_amd64.deb ...\n",
            "Unpacking python3-cffi-backend (1.11.5-1) ...\n",
            "Selecting previously unselected package python3-crypto.\n",
            "Preparing to unpack .../17-python3-crypto_2.6.1-8ubuntu2_amd64.deb ...\n",
            "Unpacking python3-crypto (2.6.1-8ubuntu2) ...\n",
            "Selecting previously unselected package python3-idna.\n",
            "Preparing to unpack .../18-python3-idna_2.6-1_all.deb ...\n",
            "Unpacking python3-idna (2.6-1) ...\n",
            "Selecting previously unselected package python3-six.\n",
            "Preparing to unpack .../19-python3-six_1.11.0-2_all.deb ...\n",
            "Unpacking python3-six (1.11.0-2) ...\n",
            "Selecting previously unselected package python3-cryptography.\n",
            "Preparing to unpack .../20-python3-cryptography_2.1.4-1ubuntu1.4_amd64.deb ...\n",
            "Unpacking python3-cryptography (2.1.4-1ubuntu1.4) ...\n",
            "Selecting previously unselected package python3-secretstorage.\n",
            "Preparing to unpack .../21-python3-secretstorage_2.3.1-2_all.deb ...\n",
            "Unpacking python3-secretstorage (2.3.1-2) ...\n",
            "Selecting previously unselected package python3-keyring.\n",
            "Preparing to unpack .../22-python3-keyring_10.6.0-1_all.deb ...\n",
            "Unpacking python3-keyring (10.6.0-1) ...\n",
            "Selecting previously unselected package python3-keyrings.alt.\n",
            "Preparing to unpack .../23-python3-keyrings.alt_3.0-1_all.deb ...\n",
            "Unpacking python3-keyrings.alt (3.0-1) ...\n",
            "Selecting previously unselected package python3-numpy.\n",
            "Preparing to unpack .../24-python3-numpy_1%3a1.13.3-2ubuntu1_amd64.deb ...\n",
            "Unpacking python3-numpy (1:1.13.3-2ubuntu1) ...\n",
            "Selecting previously unselected package python3-pip.\n",
            "Preparing to unpack .../25-python3-pip_9.0.1-2.3~ubuntu1.18.04.5_all.deb ...\n",
            "Unpacking python3-pip (9.0.1-2.3~ubuntu1.18.04.5) ...\n",
            "Selecting previously unselected package python3-pkg-resources.\n",
            "Preparing to unpack .../26-python3-pkg-resources_39.0.1-2_all.deb ...\n",
            "Unpacking python3-pkg-resources (39.0.1-2) ...\n",
            "Selecting previously unselected package python3-setuptools.\n",
            "Preparing to unpack .../27-python3-setuptools_39.0.1-2_all.deb ...\n",
            "Unpacking python3-setuptools (39.0.1-2) ...\n",
            "Selecting previously unselected package python3-wheel.\n",
            "Preparing to unpack .../28-python3-wheel_0.30.0-0.2_all.deb ...\n",
            "Unpacking python3-wheel (0.30.0-0.2) ...\n",
            "Selecting previously unselected package python3-xdg.\n",
            "Preparing to unpack .../29-python3-xdg_0.25-4ubuntu1.1_all.deb ...\n",
            "Unpacking python3-xdg (0.25-4ubuntu1.1) ...\n",
            "Setting up python-pip-whl (9.0.1-2.3~ubuntu1.18.04.5) ...\n",
            "Setting up python3-cffi-backend (1.11.5-1) ...\n",
            "Setting up libsigsegv2:amd64 (2.12-1) ...\n",
            "Setting up python3-crypto (2.6.1-8ubuntu2) ...\n",
            "Setting up python3-numpy (1:1.13.3-2ubuntu1) ...\n",
            "Setting up python3-idna (2.6-1) ...\n",
            "Setting up python3-xdg (0.25-4ubuntu1.1) ...\n",
            "Setting up python3-six (1.11.0-2) ...\n",
            "Setting up python3-wheel (0.30.0-0.2) ...\n",
            "Setting up m4 (1.4.18-1) ...\n",
            "Setting up python3-pkg-resources (39.0.1-2) ...\n",
            "Setting up libmagic-mgc (1:5.32-2ubuntu0.4) ...\n",
            "Setting up libmagic1:amd64 (1:5.32-2ubuntu0.4) ...\n",
            "Setting up python3-asn1crypto (0.24.0-1) ...\n",
            "Setting up autotools-dev (20180224.1) ...\n",
            "Setting up python3-pip (9.0.1-2.3~ubuntu1.18.04.5) ...\n",
            "Setting up libbison-dev:amd64 (2:3.0.4.dfsg-1build1) ...\n",
            "Setting up libfl2:amd64 (2.6.4-6) ...\n",
            "Setting up bison (2:3.0.4.dfsg-1build1) ...\n",
            "update-alternatives: using /usr/bin/bison.yacc to provide /usr/bin/yacc (yacc) in auto mode\n",
            "Setting up python3-setuptools (39.0.1-2) ...\n",
            "Setting up python3-cryptography (2.1.4-1ubuntu1.4) ...\n",
            "Setting up flex (2.6.4-6) ...\n",
            "Setting up python3-keyrings.alt (3.0-1) ...\n",
            "Setting up autoconf (2.69-11) ...\n",
            "Setting up file (1:5.32-2ubuntu0.4) ...\n",
            "Setting up libfl-dev:amd64 (2.6.4-6) ...\n",
            "Setting up automake (1:1.15.1-3ubuntu2) ...\n",
            "update-alternatives: using /usr/bin/automake-1.15 to provide /usr/bin/automake (automake) in auto mode\n",
            "Setting up python3-secretstorage (2.3.1-2) ...\n",
            "Setting up libtool (2.4.6-2) ...\n",
            "Setting up python3-keyring (10.6.0-1) ...\n",
            "Processing triggers for man-db (2.8.3-2ubuntu0.1) ...\n",
            "Processing triggers for libc-bin (2.27-3ubuntu1.3) ...\n",
            "/sbin/ldconfig.real: /usr/local/lib/python3.7/dist-packages/ideep4py/lib/libmkldnn.so.0 is not a symbolic link\n",
            "\n",
            "OK\n",
            "Hit:1 http://security.ubuntu.com/ubuntu bionic-security InRelease\n",
            "Hit:2 http://archive.ubuntu.com/ubuntu bionic InRelease\n",
            "Hit:3 http://archive.ubuntu.com/ubuntu bionic-updates InRelease\n",
            "Hit:4 http://archive.ubuntu.com/ubuntu bionic-backports InRelease\n",
            "Hit:5 http://ppa.launchpad.net/c2d4u.team/c2d4u4.0+/ubuntu bionic InRelease\n",
            "Hit:6 http://ppa.launchpad.net/cran/libgit2/ubuntu bionic InRelease\n",
            "Hit:7 http://ppa.launchpad.net/deadsnakes/ppa/ubuntu bionic InRelease\n",
            "Hit:8 https://cloud.r-project.org/bin/linux/ubuntu bionic-cran40/ InRelease\n",
            "Hit:9 http://ppa.launchpad.net/graphics-drivers/ppa/ubuntu bionic InRelease\n",
            "Get:10 https://apt.kitware.com/ubuntu bionic InRelease [11.0 kB]\n",
            "Ign:11 https://developer.download.nvidia.com/compute/cuda/repos/ubuntu1804/x86_64  InRelease\n",
            "Ign:12 https://developer.download.nvidia.com/compute/machine-learning/repos/ubuntu1804/x86_64  InRelease\n",
            "Hit:13 https://developer.download.nvidia.com/compute/cuda/repos/ubuntu1804/x86_64  Release\n",
            "Hit:14 https://developer.download.nvidia.com/compute/machine-learning/repos/ubuntu1804/x86_64  Release\n",
            "Get:15 https://apt.kitware.com/ubuntu bionic/main amd64 Packages [55.3 kB]\n",
            "Fetched 66.3 kB in 1s (52.6 kB/s)\n",
            "Reading package lists... Done\n",
            "Hit:1 http://archive.ubuntu.com/ubuntu bionic InRelease\n",
            "Hit:2 http://archive.ubuntu.com/ubuntu bionic-updates InRelease\n",
            "Hit:3 http://security.ubuntu.com/ubuntu bionic-security InRelease\n",
            "Hit:4 http://ppa.launchpad.net/c2d4u.team/c2d4u4.0+/ubuntu bionic InRelease\n",
            "Hit:5 http://archive.ubuntu.com/ubuntu bionic-backports InRelease\n",
            "Hit:6 http://ppa.launchpad.net/cran/libgit2/ubuntu bionic InRelease\n",
            "Hit:7 https://cloud.r-project.org/bin/linux/ubuntu bionic-cran40/ InRelease\n",
            "Hit:8 http://ppa.launchpad.net/deadsnakes/ppa/ubuntu bionic InRelease\n",
            "Hit:9 http://ppa.launchpad.net/graphics-drivers/ppa/ubuntu bionic InRelease\n",
            "Ign:10 https://developer.download.nvidia.com/compute/cuda/repos/ubuntu1804/x86_64  InRelease\n",
            "Ign:11 https://developer.download.nvidia.com/compute/machine-learning/repos/ubuntu1804/x86_64  InRelease\n",
            "Hit:12 https://developer.download.nvidia.com/compute/cuda/repos/ubuntu1804/x86_64  Release\n",
            "Hit:13 https://developer.download.nvidia.com/compute/machine-learning/repos/ubuntu1804/x86_64  Release\n",
            "Hit:14 https://apt.kitware.com/ubuntu bionic InRelease\n",
            "Reading package lists... Done\n",
            "Reading package lists... Done\n",
            "Building dependency tree       \n",
            "Reading state information... Done\n",
            "The following packages were automatically installed and are no longer required:\n",
            "  libarchive13 liblzo2-2 librhash0 libuv1\n",
            "Use 'apt autoremove' to remove them.\n",
            "The following additional packages will be installed:\n",
            "  cmake-data\n",
            "Suggested packages:\n",
            "  cmake-doc ninja-build\n",
            "The following NEW packages will be installed:\n",
            "  kitware-archive-keyring\n",
            "The following packages will be upgraded:\n",
            "  cmake cmake-data\n",
            "2 upgraded, 1 newly installed, 0 to remove and 55 not upgraded.\n",
            "Need to get 12.7 MB of archives.\n",
            "After this operation, 18.6 MB of additional disk space will be used.\n",
            "Get:1 https://apt.kitware.com/ubuntu bionic/main amd64 cmake amd64 3.21.3-0kitware1ubuntu18.04.1 [10.8 MB]\n",
            "Get:2 https://apt.kitware.com/ubuntu bionic/main amd64 cmake-data all 3.21.3-0kitware1ubuntu18.04.1 [1,850 kB]\n",
            "Get:3 https://apt.kitware.com/ubuntu bionic/main amd64 kitware-archive-keyring all 2021.06.24 [17.3 kB]\n",
            "Fetched 12.7 MB in 1s (8,771 kB/s)\n",
            "Preconfiguring packages ...\n",
            "(Reading database ... 156767 files and directories currently installed.)\n",
            "Preparing to unpack .../cmake_3.21.3-0kitware1ubuntu18.04.1_amd64.deb ...\n",
            "Unpacking cmake (3.21.3-0kitware1ubuntu18.04.1) over (3.10.2-1ubuntu2.18.04.2) ...\n",
            "Preparing to unpack .../cmake-data_3.21.3-0kitware1ubuntu18.04.1_all.deb ...\n",
            "Unpacking cmake-data (3.21.3-0kitware1ubuntu18.04.1) over (3.10.2-1ubuntu2.18.04.2) ...\n",
            "Selecting previously unselected package kitware-archive-keyring.\n",
            "Preparing to unpack .../kitware-archive-keyring_2021.06.24_all.deb ...\n",
            "Unpacking kitware-archive-keyring (2021.06.24) ...\n",
            "Setting up cmake-data (3.21.3-0kitware1ubuntu18.04.1) ...\n",
            "Setting up kitware-archive-keyring (2021.06.24) ...\n",
            "Setting up cmake (3.21.3-0kitware1ubuntu18.04.1) ...\n",
            "Processing triggers for man-db (2.8.3-2ubuntu0.1) ...\n",
            "cmake version 3.21.3\n",
            "\n",
            "CMake suite maintained and supported by Kitware (kitware.com/cmake).\n"
          ]
        }
      ]
    },
    {
      "cell_type": "code",
      "metadata": {
        "colab": {
          "base_uri": "https://localhost:8080/"
        },
        "id": "1RluRBp9rcJn",
        "outputId": "485b4d11-0d74-4807-ca5b-40dc2e4f719c"
      },
      "source": [
        "!pip3 install nle\n",
        "!pip3 install minihack"
      ],
      "id": "1RluRBp9rcJn",
      "execution_count": 3,
      "outputs": [
        {
          "output_type": "stream",
          "name": "stdout",
          "text": [
            "Collecting nle\n",
            "  Downloading nle-0.7.3.tar.gz (6.8 MB)\n",
            "\u001b[K     |████████████████████████████████| 6.8 MB 10.4 MB/s \n",
            "\u001b[?25h  Installing build dependencies ... \u001b[?25l\u001b[?25hdone\n",
            "  Getting requirements to build wheel ... \u001b[?25l\u001b[?25hdone\n",
            "  Installing backend dependencies ... \u001b[?25l\u001b[?25hdone\n",
            "    Preparing wheel metadata ... \u001b[?25l\u001b[?25hdone\n",
            "Requirement already satisfied: numpy>=1.16 in /usr/local/lib/python3.7/dist-packages (from nle) (1.19.5)\n",
            "Collecting pybind11>=2.2\n",
            "  Using cached pybind11-2.8.1-py2.py3-none-any.whl (208 kB)\n",
            "Requirement already satisfied: gym>=0.15 in /usr/local/lib/python3.7/dist-packages (from nle) (0.17.3)\n",
            "Requirement already satisfied: scipy in /usr/local/lib/python3.7/dist-packages (from gym>=0.15->nle) (1.4.1)\n",
            "Requirement already satisfied: pyglet<=1.5.0,>=1.4.0 in /usr/local/lib/python3.7/dist-packages (from gym>=0.15->nle) (1.5.0)\n",
            "Requirement already satisfied: cloudpickle<1.7.0,>=1.2.0 in /usr/local/lib/python3.7/dist-packages (from gym>=0.15->nle) (1.3.0)\n",
            "Requirement already satisfied: future in /usr/local/lib/python3.7/dist-packages (from pyglet<=1.5.0,>=1.4.0->gym>=0.15->nle) (0.16.0)\n",
            "Building wheels for collected packages: nle\n",
            "  Building wheel for nle (PEP 517) ... \u001b[?25l\u001b[?25hdone\n",
            "  Created wheel for nle: filename=nle-0.7.3-cp37-cp37m-linux_x86_64.whl size=2874647 sha256=2f51d4e3b6f0ccb1b9e44b0b04102eee6cfbaa24b9f469940f7053bf906514c0\n",
            "  Stored in directory: /root/.cache/pip/wheels/25/9a/cc/5df4c522352fb289d67b08b16cbb28b2131d982798343e681f\n",
            "Successfully built nle\n",
            "Installing collected packages: pybind11, nle\n",
            "Successfully installed nle-0.7.3 pybind11-2.8.1\n",
            "Collecting minihack\n",
            "  Downloading minihack-0.1.1-py3-none-any.whl (259 kB)\n",
            "\u001b[K     |████████████████████████████████| 259 kB 12.6 MB/s \n",
            "\u001b[?25hRequirement already satisfied: numpy>=1.16 in /usr/local/lib/python3.7/dist-packages (from minihack) (1.19.5)\n",
            "Requirement already satisfied: gym<0.20 in /usr/local/lib/python3.7/dist-packages (from minihack) (0.17.3)\n",
            "Requirement already satisfied: nle>=0.7.3 in /usr/local/lib/python3.7/dist-packages (from minihack) (0.7.3)\n",
            "Requirement already satisfied: pyglet<=1.5.0,>=1.4.0 in /usr/local/lib/python3.7/dist-packages (from gym<0.20->minihack) (1.5.0)\n",
            "Requirement already satisfied: cloudpickle<1.7.0,>=1.2.0 in /usr/local/lib/python3.7/dist-packages (from gym<0.20->minihack) (1.3.0)\n",
            "Requirement already satisfied: scipy in /usr/local/lib/python3.7/dist-packages (from gym<0.20->minihack) (1.4.1)\n",
            "Requirement already satisfied: pybind11>=2.2 in /usr/local/lib/python3.7/dist-packages (from nle>=0.7.3->minihack) (2.8.1)\n",
            "Requirement already satisfied: future in /usr/local/lib/python3.7/dist-packages (from pyglet<=1.5.0,>=1.4.0->gym<0.20->minihack) (0.16.0)\n",
            "Installing collected packages: minihack\n",
            "Successfully installed minihack-0.1.1\n"
          ]
        }
      ]
    },
    {
      "cell_type": "code",
      "metadata": {
        "id": "c5be044b"
      },
      "source": [
        "import numpy as np\n",
        "import matplotlib.pyplot as plt\n",
        "\n",
        "\n",
        "import torch\n",
        "import torch.nn as nn\n",
        "import torch.nn.functional as F\n",
        "import torch.optim as optim\n",
        "from torch.distributions import Categorical\n",
        "\n",
        "import gym\n",
        "from gym import ObservationWrapper\n",
        "from gym.spaces import Box\n",
        "from nle import nethack\n",
        "import minihack"
      ],
      "id": "c5be044b",
      "execution_count": 4,
      "outputs": []
    },
    {
      "cell_type": "code",
      "metadata": {
        "id": "bbac8fad",
        "colab": {
          "base_uri": "https://localhost:8080/"
        },
        "outputId": "653bca35-5357-4a28-d676-62146f9fa49b"
      },
      "source": [
        "DEVICE = torch.device(\"cuda\" if torch.cuda.is_available() else \"cpu\")\n",
        "torch.cuda.is_available()"
      ],
      "id": "bbac8fad",
      "execution_count": 5,
      "outputs": [
        {
          "output_type": "execute_result",
          "data": {
            "text/plain": [
              "True"
            ]
          },
          "metadata": {},
          "execution_count": 5
        }
      ]
    },
    {
      "cell_type": "code",
      "metadata": {
        "id": "LpvNvM2tFF1S"
      },
      "source": [
        "# Gym wrapper\n",
        "class GrayScaleObservation(ObservationWrapper):\n",
        "  r\"\"\"Convert the image observation from RGB to gray scale.\"\"\"\n",
        "\n",
        "  def __init__(self, env, keep_dim=False):\n",
        "    super(GrayScaleObservation, self).__init__(env)\n",
        "    self.keep_dim = keep_dim\n",
        "\n",
        "    assert (\n",
        "        len(env.observation_space['pixel_crop'].shape) == 3\n",
        "        and env.observation_space['pixel_crop'].shape[-1] == 3\n",
        "    )\n",
        "\n",
        "    obs_shape = self.observation_space['pixel_crop'].shape[:2]\n",
        "    if self.keep_dim:\n",
        "        self.observation_space['pixel_crop'] = Box(\n",
        "            low=0, high=255, shape=(obs_shape[0], obs_shape[1], 1), dtype=np.uint8\n",
        "        )\n",
        "    else:\n",
        "        self.observation_space['pixel_crop'] = Box(\n",
        "            low=0, high=255, shape=obs_shape, dtype=np.uint8\n",
        "        )\n",
        "\n",
        "  def observation(self, observation):\n",
        "    import cv2\n",
        "\n",
        "    observation = cv2.cvtColor(observation, cv2.COLOR_RGB2GRAY)\n",
        "    if self.keep_dim:\n",
        "        observation = np.expand_dims(observation, -1)\n",
        "    return observation"
      ],
      "id": "LpvNvM2tFF1S",
      "execution_count": 72,
      "outputs": []
    },
    {
      "cell_type": "markdown",
      "metadata": {
        "id": "e40eeed6"
      },
      "source": [
        "# Simple Neural Network (Policy)"
      ],
      "id": "e40eeed6"
    },
    {
      "cell_type": "code",
      "metadata": {
        "id": "a02d93d3"
      },
      "source": [
        "class PolicyNetwork(nn.Module):\n",
        "    def __init__(self, obs_space=4, hidden=16, act_space=2):\n",
        "        ''' A simple Neural Network.\n",
        "        :params obs_space: Observation space (Default=4)\n",
        "        :params hidden: Hiddens size (Default=16)\n",
        "        :params act_space: Action space (Default=2)\n",
        "        '''\n",
        "        super(PolicyNetwork, self).__init__()\n",
        "\n",
        "        # Convolutional and pooling layers\n",
        "        self.conv1 = nn.Conv2d(3, 20, 3)\n",
        "        self.conv2 = nn.Conv2d(20, 10, 4)\n",
        "        self.pool = nn.MaxPool2d(2,2)\n",
        "        \n",
        "        # Linear layers\n",
        "        self.linear1 = nn.Linear(10*34*34, hidden)\n",
        "        self.linear2 = nn.Linear(hidden, act_space)\n",
        "\n",
        "        # Dropout\n",
        "        self.dropout = nn.Dropout(p=0.6)\n",
        "\n",
        "\n",
        "    def forward(self, x):\n",
        "\n",
        "      # 2 Conv,relu and pooling layers\n",
        "      x = F.relu(self.conv1(x)) \n",
        "      x = self.pool(x)\n",
        "      x = F.relu(self.conv2(x)) \n",
        "      x= self.pool(x)\n",
        "      \n",
        "      # Flatten image\n",
        "      x = x.view(-1, 10*34*34)\n",
        "\n",
        "      x = self.linear1(x)\n",
        "      x = F.relu(x)\n",
        "      x = self.dropout(x)\n",
        "      actions = self.linear2(x)\n",
        "\n",
        "      act_probs = F.softmax(actions, dim=1)\n",
        "\n",
        "      return act_probs"
      ],
      "id": "a02d93d3",
      "execution_count": 12,
      "outputs": []
    },
    {
      "cell_type": "markdown",
      "metadata": {
        "id": "1922fd98"
      },
      "source": [
        "# REINFORCE Agent"
      ],
      "id": "1922fd98"
    },
    {
      "cell_type": "code",
      "metadata": {
        "id": "d4c817df"
      },
      "source": [
        "class Agent():\n",
        "    \n",
        "    def __init__(self,obs_size, action_size, policy_model, optimizer, gamma):\n",
        "        self.eps = np.finfo(np.float32).eps.item()\n",
        "        self.obs_size = obs_size\n",
        "        self.action_size = action_size\n",
        "        self.policy_model = policy_model\n",
        "        self.optim = optimizer\n",
        "        self.gamma = gamma\n",
        "        \n",
        "        self.states = []\n",
        "        self.actions = []\n",
        "        self.gradients = []\n",
        "        self.rewards = []\n",
        "        self.probs = []\n",
        "        \n",
        "    def __compute_returns(self,rewards):\n",
        "        returns = []\n",
        "        cumul_rets = 0\n",
        "        \n",
        "        for reward in reversed(rewards):\n",
        "            cumul_rets = reward + cumul_rets*self.gamma\n",
        "            returns.insert(0, cumul_rets)\n",
        "\n",
        "        # Baseline\n",
        "        returns = torch.tensor(returns).to(DEVICE)\n",
        "        returns = (returns - returns.mean()) / (returns.std() + self.eps)\n",
        "        return returns\n",
        "        \n",
        "    def choose_action(self,  state):\n",
        "        state = torch.from_numpy(state).float().to(DEVICE)\n",
        "        state = torch.permute(state, (2, 0, 1))\n",
        "        batch_state = state[None, ...]\n",
        "\n",
        "        probs = self.policy_model(batch_state)\n",
        "        state = state.detach()\n",
        "        \n",
        "        dist = Categorical(probs)\n",
        "        action = dist.sample()\n",
        "        \n",
        "        return action.item(), dist.log_prob(action)\n",
        "    \n",
        "    def save_trajectory(self, state, action, reward, prob):\n",
        "        self.states.append(state)\n",
        "        self.actions.append(action)\n",
        "        self.rewards.append(reward)\n",
        "        self.probs.append(prob)\n",
        "        \n",
        "    \n",
        "    def train(self,):\n",
        "        G = self.__compute_returns(self.rewards)\n",
        "        \n",
        "        policy_loss= []\n",
        "        for ret,prob in zip(G, self.probs):\n",
        "            policy_loss.append(-prob*ret)\n",
        "        \n",
        "        # Backpropagation\n",
        "        self.optim.zero_grad()\n",
        "        policy_loss = torch.cat(policy_loss).sum()\n",
        "        policy_loss.backward()\n",
        "        self.optim.step()\n",
        "        \n",
        "        # Reset\n",
        "        self.states, self.probs, self.gradients, self.rewards = [],[],[],[]"
      ],
      "id": "d4c817df",
      "execution_count": 7,
      "outputs": []
    },
    {
      "cell_type": "code",
      "metadata": {
        "id": "b96536c5"
      },
      "source": [
        "def main(env, agent, seed, num_episodes, max_episode_len):\n",
        "    \n",
        "    torch.manual_seed(seed)\n",
        "    torch.cuda.manual_seed_all(seed)\n",
        "    np.random.seed(seed)\n",
        "    env.seed(seed)\n",
        "    \n",
        "    tot_scores = []\n",
        "    \n",
        "    for ep in range(num_episodes):\n",
        "        \n",
        "        state = env.reset()['pixel_crop']\n",
        "        score = 0\n",
        "        \n",
        "        # Create episode\n",
        "        for step in range(max_episode_len):\n",
        "            act, prob = agent.choose_action(state)\n",
        "            \n",
        "            new_state, reward, done, _ = env.step(act)\n",
        "            \n",
        "            score += reward\n",
        "        \n",
        "            agent.save_trajectory(state, act, reward, prob)\n",
        "            \n",
        "            if done:\n",
        "                break\n",
        "            state = new_state['pixel_crop']\n",
        "        \n",
        "        tot_scores.append(score)\n",
        "        \n",
        "        # For every step in episode\n",
        "        agent.train()\n",
        "        \n",
        "        if ep % 100 == 0:\n",
        "            print(f'Episode {ep+1}\\tLast score: {score}\\tAverage reward: {np.array(tot_scores).mean()}')\n",
        "        "
      ],
      "id": "b96536c5",
      "execution_count": 14,
      "outputs": []
    },
    {
      "cell_type": "markdown",
      "metadata": {
        "id": "ba47659c"
      },
      "source": [
        "# Training"
      ],
      "id": "ba47659c"
    },
    {
      "cell_type": "code",
      "metadata": {
        "id": "d18e7e94",
        "colab": {
          "base_uri": "https://localhost:8080/"
        },
        "outputId": "b378d03d-0335-4315-9791-fe2d298f520f"
      },
      "source": [
        "# Initialise\n",
        "env = gym.make(\"MiniHack-Quest-Hard-v0\",observation_keys=(\"pixel_crop\",'glyphs'))\n",
        "print('Action space:',env.action_space.n)\n",
        "print('Observation shape:',env.observation_space['pixel_crop'].shape)\n",
        "\n",
        "env_obs_space = env.observation_space['pixel_crop'].shape[0]\n",
        "policy_model = PolicyNetwork(obs_space=env_obs_space, hidden=128, act_space=env.action_space.n)\n",
        "print(policy_model,'\\n')\n",
        "policy_model.to(DEVICE)\n",
        "optimizer = optim.Adam(policy_model.parameters(), lr=1e-2)\n",
        "\n",
        "agent = Agent(env_obs_space, env.action_space.n, policy_model, optimizer, gamma=0.99)\n",
        "\n",
        "main(env, agent, seed=54, num_episodes=1500, max_episode_len=1000)"
      ],
      "id": "d18e7e94",
      "execution_count": 21,
      "outputs": [
        {
          "output_type": "stream",
          "name": "stdout",
          "text": [
            "Action space: 78\n",
            "Observation shape: (144, 144, 3)\n",
            "PolicyNetwork(\n",
            "  (conv1): Conv2d(3, 20, kernel_size=(3, 3), stride=(1, 1))\n",
            "  (conv2): Conv2d(20, 10, kernel_size=(4, 4), stride=(1, 1))\n",
            "  (pool): MaxPool2d(kernel_size=2, stride=2, padding=0, dilation=1, ceil_mode=False)\n",
            "  (linear1): Linear(in_features=11560, out_features=128, bias=True)\n",
            "  (linear2): Linear(in_features=128, out_features=78, bias=True)\n",
            "  (dropout): Dropout(p=0.6, inplace=False)\n",
            ") \n",
            "\n",
            "Episode 0\tLast score: -9.699999999999838\tAverage reward: -9.699999999999838\n"
          ]
        },
        {
          "output_type": "stream",
          "name": "stderr",
          "text": [
            "/usr/local/lib/python3.7/dist-packages/nle/env/base.py:695: UserWarning: Warning: smooth quitting of game failed, aborting.\n",
            "  warnings.warn(\"Warning: smooth quitting of game failed, aborting.\")\n"
          ]
        },
        {
          "output_type": "stream",
          "name": "stdout",
          "text": [
            "Episode 100\tLast score: -0.08\tAverage reward: -1.8073267326732436\n",
            "Episode 200\tLast score: 0.0\tAverage reward: -0.9906467661691414\n",
            "Episode 300\tLast score: 0.0\tAverage reward: -0.67810631229235\n",
            "Episode 400\tLast score: -0.03\tAverage reward: -0.529127182044881\n",
            "Episode 500\tLast score: -0.01\tAverage reward: -0.4245508982035873\n",
            "Episode 600\tLast score: 0.0\tAverage reward: -0.3823294509151365\n",
            "Episode 700\tLast score: 0.0\tAverage reward: -0.33124108416547365\n",
            "Episode 800\tLast score: 0.0\tAverage reward: -0.3014606741572995\n",
            "Episode 900\tLast score: 0.0\tAverage reward: -0.28029966703662235\n",
            "Episode 1000\tLast score: 0.0\tAverage reward: -0.27261738261737906\n",
            "Episode 1100\tLast score: 0.0\tAverage reward: -0.2483651226158006\n",
            "Episode 1200\tLast score: 0.0\tAverage reward: -0.2328143213988313\n",
            "Episode 1300\tLast score: 0.0\tAverage reward: -0.21507302075326393\n",
            "Episode 1400\tLast score: 0.0\tAverage reward: -0.19980014275517233\n"
          ]
        }
      ]
    },
    {
      "cell_type": "markdown",
      "metadata": {
        "id": "f9EKN-P8ejiR"
      },
      "source": [
        "# Plots"
      ],
      "id": "f9EKN-P8ejiR"
    },
    {
      "cell_type": "code",
      "metadata": {
        "id": "m2MoxIa8elC0"
      },
      "source": [
        ""
      ],
      "id": "m2MoxIa8elC0",
      "execution_count": null,
      "outputs": []
    },
    {
      "cell_type": "markdown",
      "metadata": {
        "id": "spz4Hxx7emB8"
      },
      "source": [
        "# Visualise environment"
      ],
      "id": "spz4Hxx7emB8"
    },
    {
      "cell_type": "markdown",
      "metadata": {
        "id": "3BbAJiMjg3Zq"
      },
      "source": [
        "## 1. Install rendering libraries"
      ],
      "id": "3BbAJiMjg3Zq"
    },
    {
      "cell_type": "code",
      "metadata": {
        "id": "vJYx2LA7h8eZ"
      },
      "source": [
        "!pip install gym pyvirtualdisplay > /dev/null 2>&1\n",
        "!apt-get install -y xvfb python-opengl ffmpeg > /dev/null 2>&1"
      ],
      "id": "vJYx2LA7h8eZ",
      "execution_count": null,
      "outputs": []
    },
    {
      "cell_type": "markdown",
      "metadata": {
        "id": "XgGgUAWyh9l-"
      },
      "source": [
        "## 2. Import rendering libraries"
      ],
      "id": "XgGgUAWyh9l-"
    },
    {
      "cell_type": "code",
      "metadata": {
        "id": "DKRZoVjXeqLc"
      },
      "source": [
        "from gym import logger as gymlogger\n",
        "from gym.wrappers import Monitor\n",
        "gymlogger.set_level(40) #error only\n",
        "\n",
        "import math\n",
        "import glob\n",
        "import io\n",
        "import base64\n",
        "import cv2\n",
        "from IPython.display import HTML\n",
        "from IPython import display as ipythondisplay"
      ],
      "id": "DKRZoVjXeqLc",
      "execution_count": null,
      "outputs": []
    },
    {
      "cell_type": "markdown",
      "metadata": {
        "id": "EZuaWDMkhHRt"
      },
      "source": [
        "## 3. Create virtual display"
      ],
      "id": "EZuaWDMkhHRt"
    },
    {
      "cell_type": "code",
      "metadata": {
        "id": "Pa4uKijDhbn-"
      },
      "source": [
        "from pyvirtualdisplay import Display\n",
        "display = Display(visible=0, size=(1400, 900))\n",
        "display.start()"
      ],
      "id": "Pa4uKijDhbn-",
      "execution_count": null,
      "outputs": []
    },
    {
      "cell_type": "markdown",
      "metadata": {
        "id": "puQNVyVVhhFV"
      },
      "source": [
        "## 4. Render function"
      ],
      "id": "puQNVyVVhhFV"
    },
    {
      "cell_type": "code",
      "metadata": {
        "id": "XxUpvrpGhjtJ"
      },
      "source": [
        "def show_video():\n",
        "  mp4list = glob.glob('video/*.mp4')\n",
        "  if len(mp4list) > 0:\n",
        "    mp4 = mp4list[0]\n",
        "    video = io.open(mp4, 'r+b').read()\n",
        "    encoded = base64.b64encode(video)\n",
        "    ipythondisplay.display(HTML(data='''<video alt=\"test\" autoplay \n",
        "                loop controls style=\"height: 400px;\">\n",
        "                <source src=\"data:video/mp4;base64,{0}\" type=\"video/mp4\" />\n",
        "             </video>'''.format(encoded.decode('ascii'))))\n",
        "  else: \n",
        "    print(\"Could not find video\")"
      ],
      "id": "XxUpvrpGhjtJ",
      "execution_count": null,
      "outputs": []
    },
    {
      "cell_type": "markdown",
      "metadata": {
        "id": "MyJJ7nIzjTMF"
      },
      "source": [
        "## 5. Gym wrapper for rendering"
      ],
      "id": "MyJJ7nIzjTMF"
    },
    {
      "cell_type": "code",
      "metadata": {
        "id": "veFISo-LjaWQ"
      },
      "source": [
        "cv2.ocl.setUseOpenCL(False)\n",
        "\n",
        "class RenderRGB(gym.Wrapper):\n",
        "    def __init__(self, env, key_name=\"pixel\"):\n",
        "        super().__init__(env)\n",
        "        self.last_pixels = None\n",
        "        self.viewer = None\n",
        "        self.key_name = key_name\n",
        "\n",
        "        render_modes = env.metadata['render.modes']\n",
        "        render_modes.append(\"rgb_array\")\n",
        "        env.metadata['render.modes'] = render_modes\n",
        "\n",
        "    def step(self, action):\n",
        "        obs, reward, done, info = self.env.step(action)\n",
        "        self.last_pixels = obs[self.key_name]\n",
        "        return obs, reward, done, info\n",
        "\n",
        "    def render(self, mode=\"human\", **kwargs):\n",
        "        img = self.last_pixels\n",
        "\n",
        "        # Hacky but works\n",
        "        if mode != \"human\":\n",
        "            return img\n",
        "        else:\n",
        "            from gym.envs.classic_control import rendering\n",
        "\n",
        "            if self.viewer is None:\n",
        "                self.viewer = rendering.SimpleImageViewer()\n",
        "            self.viewer.imshow(img)\n",
        "            return self.viewer.isopen\n",
        "\n",
        "    def reset(self):\n",
        "        obs = self.env.reset()\n",
        "        self.last_pixels = obs[self.key_name]\n",
        "        return obs\n",
        "\n",
        "    def close(self):\n",
        "        if self.viewer is not None:\n",
        "            self.viewer.close()\n",
        "            self.viewer = None"
      ],
      "id": "veFISo-LjaWQ",
      "execution_count": null,
      "outputs": []
    },
    {
      "cell_type": "markdown",
      "metadata": {
        "id": "TC1r0tLvjqhE"
      },
      "source": [
        "## Visualise"
      ],
      "id": "TC1r0tLvjqhE"
    },
    {
      "cell_type": "code",
      "metadata": {
        "id": "x4j7lSpIjyJv"
      },
      "source": [
        "env = RenderRGB(env, 'pixel_crop')\n",
        "env = gym.wrappers.Monitor(env, \"recordings\", force=True)\n",
        "\n",
        "vis_scores = []\n",
        "\n",
        "\n",
        "for ep in range(50):\n",
        "  state = env.reset()['pixel_crop']\n",
        "  score = 0\n",
        "\n",
        "  while True:\n",
        "    env.render()\n",
        "\n",
        "    act, log_prob = agent.choose_action(state)\n",
        "    new_state, reward, done, info = env.step(act)\n",
        "    score += rewards\n",
        "    if done:\n",
        "      break\n",
        "    state = new_state\n",
        "    \n",
        "  vis_scores.append(score)\n",
        "\n",
        "env.close()\n",
        "show_video()"
      ],
      "id": "x4j7lSpIjyJv",
      "execution_count": null,
      "outputs": []
    }
  ]
}