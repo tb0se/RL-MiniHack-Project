{
  "nbformat": 4,
  "nbformat_minor": 5,
  "metadata": {
    "accelerator": "GPU",
    "colab": {
      "name": "REINFORCE.ipynb",
      "provenance": [],
      "collapsed_sections": [],
      "include_colab_link": true
    },
    "kernelspec": {
      "display_name": "Python 3 (ipykernel)",
      "language": "python",
      "name": "python3"
    },
    "language_info": {
      "codemirror_mode": {
        "name": "ipython",
        "version": 3
      },
      "file_extension": ".py",
      "mimetype": "text/x-python",
      "name": "python",
      "nbconvert_exporter": "python",
      "pygments_lexer": "ipython3",
      "version": "3.8.12"
    }
  },
  "cells": [
    {
      "cell_type": "markdown",
      "metadata": {
        "id": "view-in-github",
        "colab_type": "text"
      },
      "source": [
        "<a href=\"https://colab.research.google.com/github/tb0se/RL-MiniHack-Project/blob/Dev/src/reinforce/REINFORCE.ipynb\" target=\"_parent\"><img src=\"https://colab.research.google.com/assets/colab-badge.svg\" alt=\"Open In Colab\"/></a>"
      ]
    },
    {
      "cell_type": "code",
      "metadata": {
        "colab": {
          "base_uri": "https://localhost:8080/"
        },
        "id": "Bws4X7sKpgI2",
        "outputId": "aa650c02-4c63-4378-d06e-c21bb068c9be"
      },
      "source": [
        "# SETUP NLE(GOOGLE COLAB)\n",
        "\n",
        "# Python and most build deps\n",
        "!sudo apt update\n",
        "!sudo apt-get install -y build-essential autoconf libtool pkg-config python3-dev python3-pip python3-numpy git flex bison libbz2-dev\n",
        "\n",
        "# recent cmake version\n",
        "!wget -O - https://apt.kitware.com/keys/kitware-archive-latest.asc 2>/dev/null | sudo apt-key add -\n",
        "!sudo apt-add-repository 'deb https://apt.kitware.com/ubuntu/ bionic main'\n",
        "!sudo apt-get update && apt-get --allow-unauthenticated install -y cmake kitware-archive-keyring\n",
        "\n",
        "!sudo rm $(which cmake)\n",
        "!$(which cmake) --version"
      ],
      "id": "Bws4X7sKpgI2",
      "execution_count": null,
      "outputs": [
        {
          "output_type": "stream",
          "name": "stdout",
          "text": [
            "\u001b[33m\r0% [Working]\u001b[0m\r            \rGet:1 http://ppa.launchpad.net/c2d4u.team/c2d4u4.0+/ubuntu bionic InRelease [15.9 kB]\n",
            "\u001b[33m\r0% [Connecting to archive.ubuntu.com (91.189.88.142)] [Connecting to security.u\u001b[0m\u001b[33m\r0% [Waiting for headers] [Connecting to security.ubuntu.com (91.189.91.38)] [Co\u001b[0m\r                                                                               \rHit:2 http://archive.ubuntu.com/ubuntu bionic InRelease\n",
            "\r                                                                               \rGet:3 http://archive.ubuntu.com/ubuntu bionic-updates InRelease [88.7 kB]\n",
            "\u001b[33m\r0% [3 InRelease 15.6 kB/88.7 kB 18%] [Connecting to security.ubuntu.com (91.189\u001b[0m\u001b[33m\r0% [1 InRelease gpgv 15.9 kB] [3 InRelease 15.6 kB/88.7 kB 18%] [Connecting to \u001b[0m\r                                                                               \rHit:4 http://ppa.launchpad.net/cran/libgit2/ubuntu bionic InRelease\n",
            "\u001b[33m\r0% [1 InRelease gpgv 15.9 kB] [3 InRelease 30.1 kB/88.7 kB 34%] [Connecting to \u001b[0m\u001b[33m\r0% [1 InRelease gpgv 15.9 kB] [Connecting to security.ubuntu.com (91.189.91.38)\u001b[0m\r                                                                               \rGet:5 https://cloud.r-project.org/bin/linux/ubuntu bionic-cran40/ InRelease [3,626 B]\n",
            "\u001b[33m\r0% [1 InRelease gpgv 15.9 kB] [Waiting for headers] [Connecting to security.ubu\u001b[0m\r                                                                               \rHit:6 http://ppa.launchpad.net/deadsnakes/ppa/ubuntu bionic InRelease\n",
            "\u001b[33m\r0% [1 InRelease gpgv 15.9 kB] [Waiting for headers] [Connecting to security.ubu\u001b[0m\r                                                                               \rGet:7 http://archive.ubuntu.com/ubuntu bionic-backports InRelease [74.6 kB]\n",
            "Hit:8 http://ppa.launchpad.net/graphics-drivers/ppa/ubuntu bionic InRelease\n",
            "Get:9 http://security.ubuntu.com/ubuntu bionic-security InRelease [88.7 kB]\n",
            "Ign:10 https://developer.download.nvidia.com/compute/cuda/repos/ubuntu1804/x86_64  InRelease\n",
            "Get:11 http://ppa.launchpad.net/c2d4u.team/c2d4u4.0+/ubuntu bionic/main Sources [1,812 kB]\n",
            "Get:12 http://ppa.launchpad.net/c2d4u.team/c2d4u4.0+/ubuntu bionic/main amd64 Packages [928 kB]\n",
            "Ign:13 https://developer.download.nvidia.com/compute/machine-learning/repos/ubuntu1804/x86_64  InRelease\n",
            "Get:14 https://developer.download.nvidia.com/compute/cuda/repos/ubuntu1804/x86_64  Release [696 B]\n",
            "Hit:15 https://developer.download.nvidia.com/compute/machine-learning/repos/ubuntu1804/x86_64  Release\n",
            "Get:16 https://developer.download.nvidia.com/compute/cuda/repos/ubuntu1804/x86_64  Release.gpg [836 B]\n",
            "Get:17 http://archive.ubuntu.com/ubuntu bionic-updates/restricted amd64 Packages [699 kB]\n",
            "Get:18 http://archive.ubuntu.com/ubuntu bionic-updates/multiverse amd64 Packages [34.5 kB]\n",
            "Get:19 http://archive.ubuntu.com/ubuntu bionic-updates/main amd64 Packages [2,867 kB]\n",
            "Get:20 http://archive.ubuntu.com/ubuntu bionic-updates/universe amd64 Packages [2,219 kB]\n",
            "Get:21 https://cloud.r-project.org/bin/linux/ubuntu bionic-cran40/ Packages [73.0 kB]\n",
            "Get:23 https://developer.download.nvidia.com/compute/cuda/repos/ubuntu1804/x86_64  Packages [808 kB]\n",
            "Get:24 http://security.ubuntu.com/ubuntu bionic-security/multiverse amd64 Packages [26.8 kB]\n",
            "Get:25 http://security.ubuntu.com/ubuntu bionic-security/main amd64 Packages [2,430 kB]\n",
            "Get:26 http://security.ubuntu.com/ubuntu bionic-security/restricted amd64 Packages [666 kB]\n",
            "Get:27 http://security.ubuntu.com/ubuntu bionic-security/universe amd64 Packages [1,439 kB]\n",
            "Fetched 14.3 MB in 3s (5,249 kB/s)\n",
            "Reading package lists... Done\n",
            "Building dependency tree       \n",
            "Reading state information... Done\n",
            "57 packages can be upgraded. Run 'apt list --upgradable' to see them.\n",
            "Reading package lists... Done\n",
            "Building dependency tree       \n",
            "Reading state information... Done\n",
            "build-essential is already the newest version (12.4ubuntu1).\n",
            "pkg-config is already the newest version (0.29.1-0ubuntu2).\n",
            "git is already the newest version (1:2.17.1-1ubuntu0.9).\n",
            "libbz2-dev is already the newest version (1.0.6-8.1ubuntu0.2).\n",
            "libbz2-dev set to manually installed.\n",
            "python3-dev is already the newest version (3.6.7-1~18.04).\n",
            "python3-dev set to manually installed.\n",
            "The following additional packages will be installed:\n",
            "  automake autotools-dev file libbison-dev libfl-dev libfl2 libmagic-mgc\n",
            "  libmagic1 libsigsegv2 m4 python-pip-whl python3-asn1crypto\n",
            "  python3-cffi-backend python3-crypto python3-cryptography python3-idna\n",
            "  python3-keyring python3-keyrings.alt python3-pkg-resources\n",
            "  python3-secretstorage python3-setuptools python3-six python3-wheel\n",
            "  python3-xdg\n",
            "Suggested packages:\n",
            "  autoconf-archive gnu-standards autoconf-doc gettext bison-doc flex-doc\n",
            "  libtool-doc gcj-jdk m4-doc python-crypto-doc python-cryptography-doc\n",
            "  python3-cryptography-vectors gnome-keyring libkf5wallet-bin\n",
            "  gir1.2-gnomekeyring-1.0 python-numpy-doc python3-nose python3-numpy-dbg\n",
            "  python-secretstorage-doc python-setuptools-doc\n",
            "The following NEW packages will be installed:\n",
            "  autoconf automake autotools-dev bison file flex libbison-dev libfl-dev\n",
            "  libfl2 libmagic-mgc libmagic1 libsigsegv2 libtool m4 python-pip-whl\n",
            "  python3-asn1crypto python3-cffi-backend python3-crypto python3-cryptography\n",
            "  python3-idna python3-keyring python3-keyrings.alt python3-numpy python3-pip\n",
            "  python3-pkg-resources python3-secretstorage python3-setuptools python3-six\n",
            "  python3-wheel python3-xdg\n",
            "0 upgraded, 30 newly installed, 0 to remove and 57 not upgraded.\n",
            "Need to get 7,314 kB of archives.\n",
            "After this operation, 33.3 MB of additional disk space will be used.\n",
            "Get:1 http://archive.ubuntu.com/ubuntu bionic/main amd64 libsigsegv2 amd64 2.12-1 [14.7 kB]\n",
            "Get:2 http://archive.ubuntu.com/ubuntu bionic/main amd64 m4 amd64 1.4.18-1 [197 kB]\n",
            "Get:3 http://archive.ubuntu.com/ubuntu bionic/main amd64 flex amd64 2.6.4-6 [316 kB]\n",
            "Get:4 http://archive.ubuntu.com/ubuntu bionic-updates/main amd64 libmagic-mgc amd64 1:5.32-2ubuntu0.4 [184 kB]\n",
            "Get:5 http://archive.ubuntu.com/ubuntu bionic-updates/main amd64 libmagic1 amd64 1:5.32-2ubuntu0.4 [68.6 kB]\n",
            "Get:6 http://archive.ubuntu.com/ubuntu bionic-updates/main amd64 file amd64 1:5.32-2ubuntu0.4 [22.1 kB]\n",
            "Get:7 http://archive.ubuntu.com/ubuntu bionic/main amd64 autoconf all 2.69-11 [322 kB]\n",
            "Get:8 http://archive.ubuntu.com/ubuntu bionic/main amd64 autotools-dev all 20180224.1 [39.6 kB]\n",
            "Get:9 http://archive.ubuntu.com/ubuntu bionic/main amd64 automake all 1:1.15.1-3ubuntu2 [509 kB]\n",
            "Get:10 http://archive.ubuntu.com/ubuntu bionic/main amd64 libbison-dev amd64 2:3.0.4.dfsg-1build1 [339 kB]\n",
            "Get:11 http://archive.ubuntu.com/ubuntu bionic/main amd64 bison amd64 2:3.0.4.dfsg-1build1 [266 kB]\n",
            "Get:12 http://archive.ubuntu.com/ubuntu bionic/main amd64 libfl2 amd64 2.6.4-6 [11.4 kB]\n",
            "Get:13 http://archive.ubuntu.com/ubuntu bionic/main amd64 libfl-dev amd64 2.6.4-6 [6,320 B]\n",
            "Get:14 http://archive.ubuntu.com/ubuntu bionic/main amd64 libtool all 2.4.6-2 [194 kB]\n",
            "Get:15 http://archive.ubuntu.com/ubuntu bionic-updates/universe amd64 python-pip-whl all 9.0.1-2.3~ubuntu1.18.04.5 [1,653 kB]\n",
            "Get:16 http://archive.ubuntu.com/ubuntu bionic/main amd64 python3-asn1crypto all 0.24.0-1 [72.8 kB]\n",
            "Get:17 http://archive.ubuntu.com/ubuntu bionic/main amd64 python3-cffi-backend amd64 1.11.5-1 [64.6 kB]\n",
            "Get:18 http://archive.ubuntu.com/ubuntu bionic/main amd64 python3-crypto amd64 2.6.1-8ubuntu2 [244 kB]\n",
            "Get:19 http://archive.ubuntu.com/ubuntu bionic/main amd64 python3-idna all 2.6-1 [32.5 kB]\n",
            "Get:20 http://archive.ubuntu.com/ubuntu bionic/main amd64 python3-six all 1.11.0-2 [11.4 kB]\n",
            "Get:21 http://archive.ubuntu.com/ubuntu bionic-updates/main amd64 python3-cryptography amd64 2.1.4-1ubuntu1.4 [220 kB]\n",
            "Get:22 http://archive.ubuntu.com/ubuntu bionic/main amd64 python3-secretstorage all 2.3.1-2 [12.1 kB]\n",
            "Get:23 http://archive.ubuntu.com/ubuntu bionic/main amd64 python3-keyring all 10.6.0-1 [26.7 kB]\n",
            "Get:24 http://archive.ubuntu.com/ubuntu bionic/main amd64 python3-keyrings.alt all 3.0-1 [16.6 kB]\n",
            "Get:25 http://archive.ubuntu.com/ubuntu bionic/main amd64 python3-numpy amd64 1:1.13.3-2ubuntu1 [1,943 kB]\n",
            "Get:26 http://archive.ubuntu.com/ubuntu bionic-updates/universe amd64 python3-pip all 9.0.1-2.3~ubuntu1.18.04.5 [114 kB]\n",
            "Get:27 http://archive.ubuntu.com/ubuntu bionic/main amd64 python3-pkg-resources all 39.0.1-2 [98.8 kB]\n",
            "Get:28 http://archive.ubuntu.com/ubuntu bionic/main amd64 python3-setuptools all 39.0.1-2 [248 kB]\n",
            "Get:29 http://archive.ubuntu.com/ubuntu bionic/universe amd64 python3-wheel all 0.30.0-0.2 [36.5 kB]\n",
            "Get:30 http://archive.ubuntu.com/ubuntu bionic-updates/main amd64 python3-xdg all 0.25-4ubuntu1.1 [31.3 kB]\n",
            "Fetched 7,314 kB in 0s (30.1 MB/s)\n",
            "debconf: unable to initialize frontend: Dialog\n",
            "debconf: (No usable dialog-like program is installed, so the dialog based frontend cannot be used. at /usr/share/perl5/Debconf/FrontEnd/Dialog.pm line 76, <> line 30.)\n",
            "debconf: falling back to frontend: Readline\n",
            "debconf: unable to initialize frontend: Readline\n",
            "debconf: (This frontend requires a controlling tty.)\n",
            "debconf: falling back to frontend: Teletype\n",
            "dpkg-preconfigure: unable to re-open stdin: \n",
            "Selecting previously unselected package libsigsegv2:amd64.\n",
            "(Reading database ... 155219 files and directories currently installed.)\n",
            "Preparing to unpack .../00-libsigsegv2_2.12-1_amd64.deb ...\n",
            "Unpacking libsigsegv2:amd64 (2.12-1) ...\n",
            "Selecting previously unselected package m4.\n",
            "Preparing to unpack .../01-m4_1.4.18-1_amd64.deb ...\n",
            "Unpacking m4 (1.4.18-1) ...\n",
            "Selecting previously unselected package flex.\n",
            "Preparing to unpack .../02-flex_2.6.4-6_amd64.deb ...\n",
            "Unpacking flex (2.6.4-6) ...\n",
            "Selecting previously unselected package libmagic-mgc.\n",
            "Preparing to unpack .../03-libmagic-mgc_1%3a5.32-2ubuntu0.4_amd64.deb ...\n",
            "Unpacking libmagic-mgc (1:5.32-2ubuntu0.4) ...\n",
            "Selecting previously unselected package libmagic1:amd64.\n",
            "Preparing to unpack .../04-libmagic1_1%3a5.32-2ubuntu0.4_amd64.deb ...\n",
            "Unpacking libmagic1:amd64 (1:5.32-2ubuntu0.4) ...\n",
            "Selecting previously unselected package file.\n",
            "Preparing to unpack .../05-file_1%3a5.32-2ubuntu0.4_amd64.deb ...\n",
            "Unpacking file (1:5.32-2ubuntu0.4) ...\n",
            "Selecting previously unselected package autoconf.\n",
            "Preparing to unpack .../06-autoconf_2.69-11_all.deb ...\n",
            "Unpacking autoconf (2.69-11) ...\n",
            "Selecting previously unselected package autotools-dev.\n",
            "Preparing to unpack .../07-autotools-dev_20180224.1_all.deb ...\n",
            "Unpacking autotools-dev (20180224.1) ...\n",
            "Selecting previously unselected package automake.\n",
            "Preparing to unpack .../08-automake_1%3a1.15.1-3ubuntu2_all.deb ...\n",
            "Unpacking automake (1:1.15.1-3ubuntu2) ...\n",
            "Selecting previously unselected package libbison-dev:amd64.\n",
            "Preparing to unpack .../09-libbison-dev_2%3a3.0.4.dfsg-1build1_amd64.deb ...\n",
            "Unpacking libbison-dev:amd64 (2:3.0.4.dfsg-1build1) ...\n",
            "Selecting previously unselected package bison.\n",
            "Preparing to unpack .../10-bison_2%3a3.0.4.dfsg-1build1_amd64.deb ...\n",
            "Unpacking bison (2:3.0.4.dfsg-1build1) ...\n",
            "Selecting previously unselected package libfl2:amd64.\n",
            "Preparing to unpack .../11-libfl2_2.6.4-6_amd64.deb ...\n",
            "Unpacking libfl2:amd64 (2.6.4-6) ...\n",
            "Selecting previously unselected package libfl-dev:amd64.\n",
            "Preparing to unpack .../12-libfl-dev_2.6.4-6_amd64.deb ...\n",
            "Unpacking libfl-dev:amd64 (2.6.4-6) ...\n",
            "Selecting previously unselected package libtool.\n",
            "Preparing to unpack .../13-libtool_2.4.6-2_all.deb ...\n",
            "Unpacking libtool (2.4.6-2) ...\n",
            "Selecting previously unselected package python-pip-whl.\n",
            "Preparing to unpack .../14-python-pip-whl_9.0.1-2.3~ubuntu1.18.04.5_all.deb ...\n",
            "Unpacking python-pip-whl (9.0.1-2.3~ubuntu1.18.04.5) ...\n",
            "Selecting previously unselected package python3-asn1crypto.\n",
            "Preparing to unpack .../15-python3-asn1crypto_0.24.0-1_all.deb ...\n",
            "Unpacking python3-asn1crypto (0.24.0-1) ...\n",
            "Selecting previously unselected package python3-cffi-backend.\n",
            "Preparing to unpack .../16-python3-cffi-backend_1.11.5-1_amd64.deb ...\n",
            "Unpacking python3-cffi-backend (1.11.5-1) ...\n",
            "Selecting previously unselected package python3-crypto.\n",
            "Preparing to unpack .../17-python3-crypto_2.6.1-8ubuntu2_amd64.deb ...\n",
            "Unpacking python3-crypto (2.6.1-8ubuntu2) ...\n",
            "Selecting previously unselected package python3-idna.\n",
            "Preparing to unpack .../18-python3-idna_2.6-1_all.deb ...\n",
            "Unpacking python3-idna (2.6-1) ...\n",
            "Selecting previously unselected package python3-six.\n",
            "Preparing to unpack .../19-python3-six_1.11.0-2_all.deb ...\n",
            "Unpacking python3-six (1.11.0-2) ...\n",
            "Selecting previously unselected package python3-cryptography.\n",
            "Preparing to unpack .../20-python3-cryptography_2.1.4-1ubuntu1.4_amd64.deb ...\n",
            "Unpacking python3-cryptography (2.1.4-1ubuntu1.4) ...\n",
            "Selecting previously unselected package python3-secretstorage.\n",
            "Preparing to unpack .../21-python3-secretstorage_2.3.1-2_all.deb ...\n",
            "Unpacking python3-secretstorage (2.3.1-2) ...\n",
            "Selecting previously unselected package python3-keyring.\n",
            "Preparing to unpack .../22-python3-keyring_10.6.0-1_all.deb ...\n",
            "Unpacking python3-keyring (10.6.0-1) ...\n",
            "Selecting previously unselected package python3-keyrings.alt.\n",
            "Preparing to unpack .../23-python3-keyrings.alt_3.0-1_all.deb ...\n",
            "Unpacking python3-keyrings.alt (3.0-1) ...\n",
            "Selecting previously unselected package python3-numpy.\n",
            "Preparing to unpack .../24-python3-numpy_1%3a1.13.3-2ubuntu1_amd64.deb ...\n",
            "Unpacking python3-numpy (1:1.13.3-2ubuntu1) ...\n",
            "Selecting previously unselected package python3-pip.\n",
            "Preparing to unpack .../25-python3-pip_9.0.1-2.3~ubuntu1.18.04.5_all.deb ...\n",
            "Unpacking python3-pip (9.0.1-2.3~ubuntu1.18.04.5) ...\n",
            "Selecting previously unselected package python3-pkg-resources.\n",
            "Preparing to unpack .../26-python3-pkg-resources_39.0.1-2_all.deb ...\n",
            "Unpacking python3-pkg-resources (39.0.1-2) ...\n",
            "Selecting previously unselected package python3-setuptools.\n",
            "Preparing to unpack .../27-python3-setuptools_39.0.1-2_all.deb ...\n",
            "Unpacking python3-setuptools (39.0.1-2) ...\n",
            "Selecting previously unselected package python3-wheel.\n",
            "Preparing to unpack .../28-python3-wheel_0.30.0-0.2_all.deb ...\n",
            "Unpacking python3-wheel (0.30.0-0.2) ...\n",
            "Selecting previously unselected package python3-xdg.\n",
            "Preparing to unpack .../29-python3-xdg_0.25-4ubuntu1.1_all.deb ...\n",
            "Unpacking python3-xdg (0.25-4ubuntu1.1) ...\n",
            "Setting up python-pip-whl (9.0.1-2.3~ubuntu1.18.04.5) ...\n",
            "Setting up python3-cffi-backend (1.11.5-1) ...\n",
            "Setting up libsigsegv2:amd64 (2.12-1) ...\n",
            "Setting up python3-crypto (2.6.1-8ubuntu2) ...\n",
            "Setting up python3-numpy (1:1.13.3-2ubuntu1) ...\n",
            "Setting up python3-idna (2.6-1) ...\n",
            "Setting up python3-xdg (0.25-4ubuntu1.1) ...\n",
            "Setting up python3-six (1.11.0-2) ...\n",
            "Setting up python3-wheel (0.30.0-0.2) ...\n",
            "Setting up m4 (1.4.18-1) ...\n",
            "Setting up python3-pkg-resources (39.0.1-2) ...\n",
            "Setting up libmagic-mgc (1:5.32-2ubuntu0.4) ...\n",
            "Setting up libmagic1:amd64 (1:5.32-2ubuntu0.4) ...\n",
            "Setting up python3-asn1crypto (0.24.0-1) ...\n",
            "Setting up autotools-dev (20180224.1) ...\n",
            "Setting up python3-pip (9.0.1-2.3~ubuntu1.18.04.5) ...\n",
            "Setting up libbison-dev:amd64 (2:3.0.4.dfsg-1build1) ...\n",
            "Setting up libfl2:amd64 (2.6.4-6) ...\n",
            "Setting up bison (2:3.0.4.dfsg-1build1) ...\n",
            "update-alternatives: using /usr/bin/bison.yacc to provide /usr/bin/yacc (yacc) in auto mode\n",
            "Setting up python3-setuptools (39.0.1-2) ...\n",
            "Setting up python3-cryptography (2.1.4-1ubuntu1.4) ...\n",
            "Setting up flex (2.6.4-6) ...\n",
            "Setting up python3-keyrings.alt (3.0-1) ...\n",
            "Setting up autoconf (2.69-11) ...\n",
            "Setting up file (1:5.32-2ubuntu0.4) ...\n",
            "Setting up libfl-dev:amd64 (2.6.4-6) ...\n",
            "Setting up automake (1:1.15.1-3ubuntu2) ...\n",
            "update-alternatives: using /usr/bin/automake-1.15 to provide /usr/bin/automake (automake) in auto mode\n",
            "Setting up python3-secretstorage (2.3.1-2) ...\n",
            "Setting up libtool (2.4.6-2) ...\n",
            "Setting up python3-keyring (10.6.0-1) ...\n",
            "Processing triggers for man-db (2.8.3-2ubuntu0.1) ...\n",
            "Processing triggers for libc-bin (2.27-3ubuntu1.3) ...\n",
            "/sbin/ldconfig.real: /usr/local/lib/python3.7/dist-packages/ideep4py/lib/libmkldnn.so.0 is not a symbolic link\n",
            "\n",
            "OK\n",
            "Hit:1 http://ppa.launchpad.net/c2d4u.team/c2d4u4.0+/ubuntu bionic InRelease\n",
            "Hit:2 http://archive.ubuntu.com/ubuntu bionic InRelease\n",
            "Hit:3 https://cloud.r-project.org/bin/linux/ubuntu bionic-cran40/ InRelease\n",
            "Hit:4 http://ppa.launchpad.net/cran/libgit2/ubuntu bionic InRelease\n",
            "Hit:5 http://archive.ubuntu.com/ubuntu bionic-updates InRelease\n",
            "Hit:6 http://archive.ubuntu.com/ubuntu bionic-backports InRelease\n",
            "Hit:7 http://ppa.launchpad.net/deadsnakes/ppa/ubuntu bionic InRelease\n",
            "Hit:8 http://ppa.launchpad.net/graphics-drivers/ppa/ubuntu bionic InRelease\n",
            "Hit:9 http://security.ubuntu.com/ubuntu bionic-security InRelease\n",
            "Ign:10 https://developer.download.nvidia.com/compute/cuda/repos/ubuntu1804/x86_64  InRelease\n",
            "Ign:11 https://developer.download.nvidia.com/compute/machine-learning/repos/ubuntu1804/x86_64  InRelease\n",
            "Get:12 https://apt.kitware.com/ubuntu bionic InRelease [11.0 kB]\n",
            "Hit:13 https://developer.download.nvidia.com/compute/cuda/repos/ubuntu1804/x86_64  Release\n",
            "Hit:14 https://developer.download.nvidia.com/compute/machine-learning/repos/ubuntu1804/x86_64  Release\n",
            "Get:15 https://apt.kitware.com/ubuntu bionic/main amd64 Packages [55.3 kB]\n",
            "Fetched 66.3 kB in 1s (55.2 kB/s)\n",
            "Reading package lists... Done\n",
            "Hit:1 http://ppa.launchpad.net/c2d4u.team/c2d4u4.0+/ubuntu bionic InRelease\n",
            "Hit:2 http://archive.ubuntu.com/ubuntu bionic InRelease\n",
            "Hit:3 http://archive.ubuntu.com/ubuntu bionic-updates InRelease\n",
            "Hit:4 http://ppa.launchpad.net/cran/libgit2/ubuntu bionic InRelease\n",
            "Hit:5 http://archive.ubuntu.com/ubuntu bionic-backports InRelease\n",
            "Hit:6 https://cloud.r-project.org/bin/linux/ubuntu bionic-cran40/ InRelease\n",
            "Hit:7 http://ppa.launchpad.net/deadsnakes/ppa/ubuntu bionic InRelease\n",
            "Hit:8 http://ppa.launchpad.net/graphics-drivers/ppa/ubuntu bionic InRelease\n",
            "Hit:9 http://security.ubuntu.com/ubuntu bionic-security InRelease\n",
            "Ign:10 https://developer.download.nvidia.com/compute/cuda/repos/ubuntu1804/x86_64  InRelease\n",
            "Ign:11 https://developer.download.nvidia.com/compute/machine-learning/repos/ubuntu1804/x86_64  InRelease\n",
            "Hit:12 https://developer.download.nvidia.com/compute/cuda/repos/ubuntu1804/x86_64  Release\n",
            "Hit:13 https://developer.download.nvidia.com/compute/machine-learning/repos/ubuntu1804/x86_64  Release\n",
            "Hit:14 https://apt.kitware.com/ubuntu bionic InRelease\n",
            "Reading package lists... Done\n",
            "Reading package lists... Done\n",
            "Building dependency tree       \n",
            "Reading state information... Done\n",
            "The following packages were automatically installed and are no longer required:\n",
            "  libarchive13 liblzo2-2 librhash0 libuv1\n",
            "Use 'apt autoremove' to remove them.\n",
            "The following additional packages will be installed:\n",
            "  cmake-data\n",
            "Suggested packages:\n",
            "  cmake-doc ninja-build\n",
            "The following NEW packages will be installed:\n",
            "  kitware-archive-keyring\n",
            "The following packages will be upgraded:\n",
            "  cmake cmake-data\n",
            "2 upgraded, 1 newly installed, 0 to remove and 57 not upgraded.\n",
            "Need to get 12.7 MB of archives.\n",
            "After this operation, 18.6 MB of additional disk space will be used.\n",
            "Get:1 https://apt.kitware.com/ubuntu bionic/main amd64 cmake amd64 3.21.3-0kitware1ubuntu18.04.1 [10.8 MB]\n",
            "Get:2 https://apt.kitware.com/ubuntu bionic/main amd64 cmake-data all 3.21.3-0kitware1ubuntu18.04.1 [1,850 kB]\n",
            "Get:3 https://apt.kitware.com/ubuntu bionic/main amd64 kitware-archive-keyring all 2021.06.24 [17.3 kB]\n",
            "Fetched 12.7 MB in 5s (2,599 kB/s)\n",
            "Preconfiguring packages ...\n",
            "(Reading database ... 156767 files and directories currently installed.)\n",
            "Preparing to unpack .../cmake_3.21.3-0kitware1ubuntu18.04.1_amd64.deb ...\n",
            "Unpacking cmake (3.21.3-0kitware1ubuntu18.04.1) over (3.10.2-1ubuntu2.18.04.2) ...\n",
            "Preparing to unpack .../cmake-data_3.21.3-0kitware1ubuntu18.04.1_all.deb ...\n",
            "Unpacking cmake-data (3.21.3-0kitware1ubuntu18.04.1) over (3.10.2-1ubuntu2.18.04.2) ...\n",
            "Selecting previously unselected package kitware-archive-keyring.\n",
            "Preparing to unpack .../kitware-archive-keyring_2021.06.24_all.deb ...\n",
            "Unpacking kitware-archive-keyring (2021.06.24) ...\n",
            "Setting up cmake-data (3.21.3-0kitware1ubuntu18.04.1) ...\n",
            "Setting up kitware-archive-keyring (2021.06.24) ...\n",
            "Setting up cmake (3.21.3-0kitware1ubuntu18.04.1) ...\n",
            "Processing triggers for man-db (2.8.3-2ubuntu0.1) ...\n",
            "cmake version 3.21.3\n",
            "\n",
            "CMake suite maintained and supported by Kitware (kitware.com/cmake).\n"
          ]
        }
      ]
    },
    {
      "cell_type": "code",
      "metadata": {
        "colab": {
          "base_uri": "https://localhost:8080/"
        },
        "id": "1RluRBp9rcJn",
        "outputId": "f9bcb4b7-d398-44cd-87e2-069e11e8a0e7"
      },
      "source": [
        "!pip3 install nle\n",
        "!pip3 install minihack"
      ],
      "id": "1RluRBp9rcJn",
      "execution_count": null,
      "outputs": [
        {
          "output_type": "stream",
          "name": "stdout",
          "text": [
            "Collecting nle\n",
            "  Downloading nle-0.7.3.tar.gz (6.8 MB)\n",
            "\u001b[K     |████████████████████████████████| 6.8 MB 10.3 MB/s \n",
            "\u001b[?25h  Installing build dependencies ... \u001b[?25l\u001b[?25hdone\n",
            "  Getting requirements to build wheel ... \u001b[?25l\u001b[?25hdone\n",
            "  Installing backend dependencies ... \u001b[?25l\u001b[?25hdone\n",
            "    Preparing wheel metadata ... \u001b[?25l\u001b[?25hdone\n",
            "Requirement already satisfied: gym>=0.15 in /usr/local/lib/python3.7/dist-packages (from nle) (0.17.3)\n",
            "Collecting pybind11>=2.2\n",
            "  Using cached pybind11-2.8.1-py2.py3-none-any.whl (208 kB)\n",
            "Requirement already satisfied: numpy>=1.16 in /usr/local/lib/python3.7/dist-packages (from nle) (1.19.5)\n",
            "Requirement already satisfied: cloudpickle<1.7.0,>=1.2.0 in /usr/local/lib/python3.7/dist-packages (from gym>=0.15->nle) (1.3.0)\n",
            "Requirement already satisfied: scipy in /usr/local/lib/python3.7/dist-packages (from gym>=0.15->nle) (1.4.1)\n",
            "Requirement already satisfied: pyglet<=1.5.0,>=1.4.0 in /usr/local/lib/python3.7/dist-packages (from gym>=0.15->nle) (1.5.0)\n",
            "Requirement already satisfied: future in /usr/local/lib/python3.7/dist-packages (from pyglet<=1.5.0,>=1.4.0->gym>=0.15->nle) (0.16.0)\n",
            "Building wheels for collected packages: nle\n",
            "  Building wheel for nle (PEP 517) ... \u001b[?25l\u001b[?25hdone\n",
            "  Created wheel for nle: filename=nle-0.7.3-cp37-cp37m-linux_x86_64.whl size=2874635 sha256=157974887d5b60f5bdd9cbbcbfae839e4e9e3d6271e78a97a051706db7474a40\n",
            "  Stored in directory: /root/.cache/pip/wheels/25/9a/cc/5df4c522352fb289d67b08b16cbb28b2131d982798343e681f\n",
            "Successfully built nle\n",
            "Installing collected packages: pybind11, nle\n",
            "Successfully installed nle-0.7.3 pybind11-2.8.1\n",
            "Collecting minihack\n",
            "  Downloading minihack-0.1.1-py3-none-any.whl (259 kB)\n",
            "\u001b[K     |████████████████████████████████| 259 kB 11.7 MB/s \n",
            "\u001b[?25hRequirement already satisfied: gym<0.20 in /usr/local/lib/python3.7/dist-packages (from minihack) (0.17.3)\n",
            "Requirement already satisfied: nle>=0.7.3 in /usr/local/lib/python3.7/dist-packages (from minihack) (0.7.3)\n",
            "Requirement already satisfied: numpy>=1.16 in /usr/local/lib/python3.7/dist-packages (from minihack) (1.19.5)\n",
            "Requirement already satisfied: scipy in /usr/local/lib/python3.7/dist-packages (from gym<0.20->minihack) (1.4.1)\n",
            "Requirement already satisfied: cloudpickle<1.7.0,>=1.2.0 in /usr/local/lib/python3.7/dist-packages (from gym<0.20->minihack) (1.3.0)\n",
            "Requirement already satisfied: pyglet<=1.5.0,>=1.4.0 in /usr/local/lib/python3.7/dist-packages (from gym<0.20->minihack) (1.5.0)\n",
            "Requirement already satisfied: pybind11>=2.2 in /usr/local/lib/python3.7/dist-packages (from nle>=0.7.3->minihack) (2.8.1)\n",
            "Requirement already satisfied: future in /usr/local/lib/python3.7/dist-packages (from pyglet<=1.5.0,>=1.4.0->gym<0.20->minihack) (0.16.0)\n",
            "Installing collected packages: minihack\n",
            "Successfully installed minihack-0.1.1\n"
          ]
        }
      ]
    },
    {
      "cell_type": "code",
      "metadata": {
        "id": "c5be044b"
      },
      "source": [
        "import os\n",
        "import time\n",
        "import shutil\n",
        "import numpy as np\n",
        "import matplotlib.pyplot as plt\n",
        "import cv2\n",
        "from collections import deque\n",
        "\n",
        "\n",
        "import torch\n",
        "import torch.nn as nn\n",
        "import torch.nn.functional as F\n",
        "import torch.optim as optim\n",
        "from torch.distributions import Categorical\n",
        "\n",
        "import gym\n",
        "from gym import spaces\n",
        "from gym.wrappers import FrameStack\n",
        "from nle import nethack\n",
        "import minihack"
      ],
      "id": "c5be044b",
      "execution_count": null,
      "outputs": []
    },
    {
      "cell_type": "code",
      "metadata": {
        "colab": {
          "base_uri": "https://localhost:8080/"
        },
        "id": "bbac8fad",
        "outputId": "2174440c-c681-4e0e-e47c-2ade7098b361"
      },
      "source": [
        "DEVICE = torch.device(\"cuda\" if torch.cuda.is_available() else \"cpu\")\n",
        "torch.cuda.is_available()"
      ],
      "id": "bbac8fad",
      "execution_count": null,
      "outputs": [
        {
          "output_type": "execute_result",
          "data": {
            "text/plain": [
              "True"
            ]
          },
          "metadata": {},
          "execution_count": 4
        }
      ]
    },
    {
      "cell_type": "markdown",
      "metadata": {
        "id": "TNN4RZnkGaPS"
      },
      "source": [
        "# Gym Wrappers"
      ],
      "id": "TNN4RZnkGaPS"
    },
    {
      "cell_type": "code",
      "metadata": {
        "id": "BNXyC-3IGdTk"
      },
      "source": [
        "class SkipFrame(gym.Wrapper):\n",
        "    def __init__(self, env, skip):\n",
        "        \"\"\"Return only every `skip`-th frame\"\"\"\n",
        "        super().__init__(env)\n",
        "        self._skip = skip\n",
        "\n",
        "    def step(self, action):\n",
        "        \"\"\"Repeat action, and sum reward\"\"\"\n",
        "        total_reward = 0.0\n",
        "        done = False\n",
        "        for i in range(self._skip):\n",
        "            # Accumulate reward and repeat the same action\n",
        "            obs, reward, done, info = self.env.step(action)\n",
        "            total_reward += reward\n",
        "            if done:\n",
        "                break\n",
        "        return obs, total_reward, done, info\n",
        "\n",
        "class PyTorchFrame(gym.ObservationWrapper):\n",
        "    \"\"\"Image shape to num_channels x height x width\"\"\"\n",
        "\n",
        "    def __init__(self, env,obs_type):\n",
        "        super(PyTorchFrame, self).__init__(env)\n",
        "        self.obs_type = obs_type\n",
        "        shape = self.observation_space[obs_type].shape\n",
        "        self.observation_space = gym.spaces.Box(\n",
        "            low=0.0, high=1.0, shape=(shape[-1], shape[0], shape[1]), dtype=np.uint8\n",
        "        )\n",
        "\n",
        "    def observation(self, observation):\n",
        "        return np.rollaxis(observation[self.obs_type], 2)\n",
        "\n",
        "# class FlattenObservation(gym.ObservationWrapper):\n",
        "#     r\"\"\"Observation wrapper that flattens the observation.\"\"\"\n",
        "\n",
        "#     def __init__(self, env, obs_type):\n",
        "#         super(FlattenObservation, self).__init__(env)\n",
        "#         shape = env.observation_space[obs_type].shape\n",
        "#         print(shape)\n",
        "#         self.observation_space = spaces.flatten_space(env.observation_space)\n",
        "#         print(self.observation_space.shape)\n",
        "\n",
        "#     def observation(self, observation):\n",
        "#         return spaces.flatten(self.env.observation_space, observation)"
      ],
      "id": "BNXyC-3IGdTk",
      "execution_count": null,
      "outputs": []
    },
    {
      "cell_type": "markdown",
      "metadata": {
        "id": "e40eeed6"
      },
      "source": [
        "# Simple Neural Network (Policy)"
      ],
      "id": "e40eeed6"
    },
    {
      "cell_type": "code",
      "metadata": {
        "id": "a02d93d3"
      },
      "source": [
        "class PolicyNetwork(nn.Module):\n",
        "    def __init__(self, obs_space=4, hidden=16, act_space=2, obs_type='glyphs_crop'):\n",
        "        ''' A simple Neural Network.\n",
        "        :params obs_space: Observation space (Default=4)\n",
        "        :params hidden: Hiddens size (Default=16)\n",
        "        :params act_space: Action space (Default=2)\n",
        "        '''\n",
        "        super(PolicyNetwork, self).__init__()\n",
        "        self.obs_type = obs_type\n",
        "\n",
        "        # Convolutional and pooling layers\n",
        "        if obs_type == 'glyphs_crop':\n",
        "          self.conv1 = nn.Conv2d(obs_space, 32, 5, padding=2)\n",
        "          self.conv2 = nn.Conv2d(32, 64, 3, padding=2)\n",
        "          self.conv3 = nn.Conv2d(64, 64, 3, stride=2)\n",
        "          # Linear layers\n",
        "          self.linear1 = nn.Linear(64*5*5, hidden)\n",
        "          self.linear2 = nn.Linear(hidden, act_space)\n",
        "\n",
        "        elif obs_type == 'pixel_crop':\n",
        "          self.conv1 = nn.Conv2d(obs_space, 32, 8, stride=4)\n",
        "          self.conv2 = nn.Conv2d(32, 64, 5, stride=2)\n",
        "          self.conv3 = nn.Conv2d(64, 64, 3, stride=1)\n",
        "          self.pool = nn.MaxPool2d(2,2)\n",
        "          # Linear layers\n",
        "          self.linear1 = nn.Linear(64*7*7, hidden)\n",
        "          self.linear2 = nn.Linear(hidden, act_space)\n",
        "        \n",
        "        # Dropout\n",
        "        self.dropout = nn.Dropout(p=0.6)\n",
        "\n",
        "    def forward(self, x):\n",
        "\n",
        "      # 3 Conv,relu\n",
        "      x = F.relu(self.conv1(x)) \n",
        "      x = F.relu(self.conv2(x)) \n",
        "      x = F.relu(self.conv3(x)) \n",
        "\n",
        "      if self.obs_type == 'pixel_crop':\n",
        "        x = self.pool(x)\n",
        "      \n",
        "      # Flatten image\n",
        "      if self.obs_type == 'pixel_crop':\n",
        "        x = x.reshape(-1, 64*7*7)\n",
        "      elif self.obs_type == 'glyphs_crop':\n",
        "        x = x.view(-1, 64*5*5)\n",
        "\n",
        "      x = self.linear1(x)\n",
        "      x = F.relu(x)\n",
        "      x = self.dropout(x)\n",
        "      actions = self.linear2(x)\n",
        "\n",
        "      act_probs = F.softmax(actions, dim=1)\n",
        "\n",
        "      return act_probs"
      ],
      "id": "a02d93d3",
      "execution_count": null,
      "outputs": []
    },
    {
      "cell_type": "markdown",
      "metadata": {
        "id": "1922fd98"
      },
      "source": [
        "# REINFORCE Agent"
      ],
      "id": "1922fd98"
    },
    {
      "cell_type": "code",
      "metadata": {
        "id": "d4c817df"
      },
      "source": [
        "class Agent():\n",
        "    \n",
        "    def __init__(self,obs_size, action_size, policy_model, optimizer, gamma):\n",
        "        self.eps = np.finfo(np.float32).eps.item()\n",
        "        self.obs_size = obs_size\n",
        "        self.action_size = action_size\n",
        "        self.policy_model = policy_model\n",
        "        self.optim = optimizer\n",
        "        self.gamma = gamma\n",
        "        \n",
        "        self.states = []\n",
        "        self.actions = []\n",
        "        self.gradients = []\n",
        "        self.rewards = []\n",
        "        self.probs = []\n",
        "        \n",
        "    def __compute_returns(self,rewards):\n",
        "        returns = []\n",
        "        cumul_rets = 0\n",
        "        \n",
        "        for reward in reversed(rewards):\n",
        "            cumul_rets = reward + cumul_rets*self.gamma\n",
        "            returns.insert(0, cumul_rets)\n",
        "\n",
        "        # Baseline\n",
        "        returns = torch.tensor(returns).to(DEVICE)\n",
        "        returns = (returns - returns.mean()) / (returns.std() + self.eps)\n",
        "        return returns\n",
        "        \n",
        "    def choose_action(self,  state):\n",
        "        state = torch.from_numpy(state).float().to(DEVICE)\n",
        "        batch_state = state[None, ...]\n",
        "\n",
        "        with torch.no_grad():\n",
        "          probs = self.policy_model(batch_state)\n",
        "        state = state.detach()\n",
        "\n",
        "        dist = Categorical(probs)\n",
        "        action = dist.sample()\n",
        "\n",
        "        # Attempt at stacked states\n",
        "        # max_vals, max_indices = probs.max(1)\n",
        "        # max_idx = max_vals.argmax()\n",
        "        # action = max_indices[max_idx]\n",
        "\n",
        "\n",
        "        return action.item(), dist.log_prob(action)\n",
        "    \n",
        "    def save_trajectory(self, state, action, reward, prob):\n",
        "        self.states.append(state)\n",
        "        self.actions.append(action)\n",
        "        self.rewards.append(reward)\n",
        "        self.probs.append(prob)\n",
        "        \n",
        "    \n",
        "    def train(self,):\n",
        "        G = self.__compute_returns(self.rewards)\n",
        "        \n",
        "        policy_loss= []\n",
        "        for ret,prob in zip(G, self.probs):\n",
        "            policy_loss.append(-prob*ret)\n",
        "        \n",
        "        # Backpropagation\n",
        "        self.optim.zero_grad()\n",
        "        # policy_loss = torch.cat(policy_loss).sum()\n",
        "        policy_loss = sum(policy_loss)\n",
        "        policy_loss = torch.tensor(policy_loss, dtype=torch.float16, requires_grad=True)\n",
        "        policy_loss.backward()\n",
        "        self.optim.step()\n",
        "        \n",
        "        # Reset\n",
        "        self.states, self.probs, self.gradients, self.rewards = [],[],[],[]\n",
        "\n",
        "    def save_checkpoint(self, ep_num):\n",
        "      chkpts_dir = './model_chkpts'\n",
        "      if not os.path.isdir(chkpts_dir): \n",
        "        os.mkdir(chkpts_dir)\n",
        "      \n",
        "      t = time.localtime()\n",
        "      timestamp = time.strftime('%b-%d-%Y_%H:%M', t)\n",
        "      f_path = f'{chkpts_dir}/model_{ep_num}_{timestamp}.pt'\n",
        "      \n",
        "      torch.save({\n",
        "            'epoch': ep_num,\n",
        "            'model_state_dict': self.policy_model.state_dict(),\n",
        "            'optimizer_state_dict': self.optim.state_dict(),\n",
        "            }, f_path )\n",
        "      \n",
        "      # if is_best:\n",
        "      #   best_dir = './best_model_chkpt'\n",
        "      #   if not os.path.isdir(best_dir): \n",
        "      #     os.mkdir(best_dir)\n",
        "\n",
        "      #   best_fpath = f'{best_dir}/best_model.pt'\n",
        "      #   shutil.copyfile(f_path, best_fpath)\n",
        "\n",
        "    def load_checkpoint(self,path,is_train=True):\n",
        "      chckpt = torch.load(path)\n",
        "\n",
        "      self.policy_model.load_state_dict(chckpt['model_state_dict'])\n",
        "      self.optim.load_state_dict(chckpt['optimizer_state_dict'])\n",
        "\n",
        "      curr_ep = chckpt['epoch']\n",
        "\n",
        "      if is_train:\n",
        "        self.policy_model.train()\n",
        "      else:\n",
        "        self.policy_model.eval()\n",
        "\n",
        "      return curr_ep"
      ],
      "id": "d4c817df",
      "execution_count": null,
      "outputs": []
    },
    {
      "cell_type": "code",
      "metadata": {
        "id": "b96536c5"
      },
      "source": [
        "def main(env, agent, seed, num_episodes, max_episode_len, obs_type,save_freq, start_ep=0, print_freq=100):\n",
        "    \n",
        "  torch.manual_seed(seed)\n",
        "  torch.cuda.manual_seed_all(seed)\n",
        "  np.random.seed(seed)\n",
        "  env.seed(seed)\n",
        "  \n",
        "  tot_scores = []\n",
        "  \n",
        "  for ep in range(start_ep,num_episodes):\n",
        "    \n",
        "    state = env.reset()\n",
        "    score = 0\n",
        "    \n",
        "    # Create episode\n",
        "    for step in range(max_episode_len):\n",
        "        act, prob = agent.choose_action(np.array(state))\n",
        "        \n",
        "        new_state, reward, done, _ = env.step(act)\n",
        "        \n",
        "        score += reward\n",
        "    \n",
        "        agent.save_trajectory(state, act, reward, prob)\n",
        "        \n",
        "        if done:\n",
        "            break\n",
        "        state = new_state\n",
        "    \n",
        "    tot_scores.append(score)\n",
        "    \n",
        "    # For every step in episode\n",
        "    agent.train()\n",
        "    \n",
        "    if ep % print_freq == 0:\n",
        "        print(f'Episode {ep}\\tLast score: {score}\\tAverage reward: {np.array(tot_scores).mean()}')\n",
        "    \n",
        "    if ep % save_freq == 0:\n",
        "      print('Saving model checkpoint...')\n",
        "      agent.save_checkpoint(ep)"
      ],
      "id": "b96536c5",
      "execution_count": null,
      "outputs": []
    },
    {
      "cell_type": "markdown",
      "metadata": {
        "id": "ba47659c"
      },
      "source": [
        "# Training"
      ],
      "id": "ba47659c"
    },
    {
      "cell_type": "code",
      "metadata": {
        "colab": {
          "base_uri": "https://localhost:8080/",
          "height": 1000
        },
        "id": "d18e7e94",
        "outputId": "d018f84f-18ce-4cec-e752-8b9d02a445e8"
      },
      "source": [
        "# Hyperparameters\n",
        "hyper_params = {\n",
        "    \"seed\": 54,\n",
        "    \"env\": \"MiniHack-Quest-Hard-v0\",\n",
        "    \"obs-type\":\"pixel_crop\",\n",
        "    \"learning_rate\":1e-2,\n",
        "    \"gamma\":0.99,\n",
        "    \"num-episodes\":50000,\n",
        "    \"num-steps\":int(1e5),\n",
        "    \"print-freq\":500,\n",
        "    \"save-freq\": 1000,\n",
        "}\n",
        "\n",
        "\n",
        "# Environment\n",
        "env = gym.make(hyper_params['env'], observation_keys=(hyper_params['obs-type'],))\n",
        "env = SkipFrame(env, skip=4)\n",
        "env = PyTorchFrame(env,hyper_params['obs-type'])\n",
        "# env = FrameStack(env, num_stack=4)\n",
        "print('Action space:',env.action_space.n)\n",
        "print('Observation shape:',env.observation_space.shape)\n",
        "\n",
        "\n",
        "# Policy (CNN)\n",
        "env_obs_space = env.observation_space.shape[0]\n",
        "policy_model = PolicyNetwork(obs_space=env_obs_space, hidden=128, act_space=env.action_space.n, obs_type=hyper_params['obs-type'])\n",
        "print(policy_model,'\\n')\n",
        "policy_model.to(DEVICE)\n",
        "optimizer = optim.Adam(policy_model.parameters(), lr=hyper_params['learning_rate'])\n",
        "\n",
        "# REINFORCE Agent\n",
        "agent = Agent(env_obs_space, env.action_space.n,\n",
        "              policy_model, optimizer, gamma=hyper_params['gamma'])\n",
        "\n",
        "# Uncomment to load a saved model checkpoint\n",
        "# path = f'./model_chkpts/model_{ep_num}_{timestamp}.pt'\n",
        "# start_ep = agent.load_checkpoint(path)\n",
        "\n",
        "# Train\n",
        "main(env, agent, seed=hyper_params['seed'],num_episodes=hyper_params['num-episodes'], max_episode_len=hyper_params['num-steps'], \n",
        "     obs_type=hyper_params['obs-type'], print_freq=hyper_params['print-freq'],save_freq=hyper_params['save-freq'] )"
      ],
      "id": "d18e7e94",
      "execution_count": null,
      "outputs": [
        {
          "metadata": {
            "tags": null
          },
          "name": "stdout",
          "output_type": "stream",
          "text": [
            "Action space: 78\n",
            "Observation shape: (3, 144, 144)\n",
            "PolicyNetwork(\n",
            "  (conv1): Conv2d(3, 32, kernel_size=(8, 8), stride=(4, 4))\n",
            "  (conv2): Conv2d(32, 64, kernel_size=(5, 5), stride=(2, 2))\n",
            "  (conv3): Conv2d(64, 64, kernel_size=(3, 3), stride=(1, 1))\n",
            "  (pool): MaxPool2d(kernel_size=2, stride=2, padding=0, dilation=1, ceil_mode=False)\n",
            "  (linear1): Linear(in_features=3136, out_features=128, bias=True)\n",
            "  (linear2): Linear(in_features=128, out_features=78, bias=True)\n",
            "  (dropout): Dropout(p=0.6, inplace=False)\n",
            ") \n",
            "\n"
          ]
        },
        {
          "metadata": {
            "tags": null
          },
          "name": "stderr",
          "output_type": "stream",
          "text": [
            "/usr/local/lib/python3.7/dist-packages/torch/nn/functional.py:718: UserWarning: Named tensors and all their associated APIs are an experimental feature and subject to change. Please do not use them for anything important until they are released as stable. (Triggered internally at  /pytorch/c10/core/TensorImpl.h:1156.)\n",
            "  return torch.max_pool2d(input, kernel_size, stride, padding, dilation, ceil_mode)\n",
            "/usr/local/lib/python3.7/dist-packages/ipykernel_launcher.py:67: UserWarning: To copy construct from a tensor, it is recommended to use sourceTensor.clone().detach() or sourceTensor.clone().detach().requires_grad_(True), rather than torch.tensor(sourceTensor).\n"
          ]
        },
        {
          "metadata": {
            "tags": null
          },
          "name": "stdout",
          "output_type": "stream",
          "text": [
            "Episode 0\tLast score: -9.719999999999969\tAverage reward: -9.719999999999969\n",
            "Saving model checkpoint...\n"
          ]
        },
        {
          "metadata": {
            "tags": null
          },
          "name": "stderr",
          "output_type": "stream",
          "text": [
            "/usr/local/lib/python3.7/dist-packages/nle/env/base.py:695: UserWarning: Warning: smooth quitting of game failed, aborting.\n",
            "  warnings.warn(\"Warning: smooth quitting of game failed, aborting.\")\n"
          ]
        },
        {
          "output_type": "stream",
          "name": "stdout",
          "text": [
            "Episode 500\tLast score: -9.789999999999967\tAverage reward: -9.404231536926119\n",
            "Episode 1000\tLast score: -9.769999999999968\tAverage reward: -9.45993006993004\n",
            "Saving model checkpoint...\n",
            "Episode 1500\tLast score: -9.789999999999967\tAverage reward: -9.473137908061263\n",
            "Episode 2000\tLast score: -9.609999999999973\tAverage reward: -9.456716641679131\n",
            "Saving model checkpoint...\n",
            "Episode 2500\tLast score: -8.749999999999991\tAverage reward: -9.453034786085537\n",
            "Episode 3000\tLast score: -9.659999999999972\tAverage reward: -9.467637454181911\n",
            "Saving model checkpoint...\n",
            "Episode 3500\tLast score: -9.879999999999965\tAverage reward: -9.477386461011111\n",
            "Episode 4000\tLast score: -9.71999999999997\tAverage reward: -9.465828542864255\n",
            "Saving model checkpoint...\n",
            "Episode 4500\tLast score: -9.559999999999972\tAverage reward: -9.466605198844672\n",
            "Episode 5000\tLast score: -9.76999999999997\tAverage reward: -9.464965006998574\n",
            "Saving model checkpoint...\n",
            "Episode 5500\tLast score: -9.539999999999973\tAverage reward: -9.463839301945074\n",
            "Episode 6000\tLast score: -9.71999999999997\tAverage reward: -9.458028661889657\n",
            "Saving model checkpoint...\n",
            "Episode 6500\tLast score: -9.66999999999997\tAverage reward: -9.46451161359788\n",
            "Episode 7000\tLast score: -5.020000000000003\tAverage reward: -9.4591201256963\n",
            "Saving model checkpoint...\n"
          ]
        },
        {
          "output_type": "error",
          "ename": "KeyboardInterrupt",
          "evalue": "ignored",
          "traceback": [
            "\u001b[0;31m---------------------------------------------------------------------------\u001b[0m",
            "\u001b[0;31mKeyboardInterrupt\u001b[0m                         Traceback (most recent call last)",
            "\u001b[0;32m<ipython-input-10-e9d552aaf06b>\u001b[0m in \u001b[0;36m<module>\u001b[0;34m()\u001b[0m\n\u001b[1;32m     39\u001b[0m \u001b[0;31m# Train\u001b[0m\u001b[0;34m\u001b[0m\u001b[0;34m\u001b[0m\u001b[0;34m\u001b[0m\u001b[0m\n\u001b[1;32m     40\u001b[0m main(env, agent, seed=hyper_params['seed'],num_episodes=hyper_params['num-episodes'], max_episode_len=hyper_params['num-steps'], \n\u001b[0;32m---> 41\u001b[0;31m      obs_type=hyper_params['obs-type'], print_freq=hyper_params['print-freq'],save_freq=hyper_params['save-freq'] )\n\u001b[0m",
            "\u001b[0;32m<ipython-input-8-1cf3af70be3b>\u001b[0m in \u001b[0;36mmain\u001b[0;34m(env, agent, seed, num_episodes, max_episode_len, obs_type, save_freq, start_ep, print_freq)\u001b[0m\n\u001b[1;32m     17\u001b[0m         \u001b[0mact\u001b[0m\u001b[0;34m,\u001b[0m \u001b[0mprob\u001b[0m \u001b[0;34m=\u001b[0m \u001b[0magent\u001b[0m\u001b[0;34m.\u001b[0m\u001b[0mchoose_action\u001b[0m\u001b[0;34m(\u001b[0m\u001b[0mnp\u001b[0m\u001b[0;34m.\u001b[0m\u001b[0marray\u001b[0m\u001b[0;34m(\u001b[0m\u001b[0mstate\u001b[0m\u001b[0;34m)\u001b[0m\u001b[0;34m)\u001b[0m\u001b[0;34m\u001b[0m\u001b[0;34m\u001b[0m\u001b[0m\n\u001b[1;32m     18\u001b[0m \u001b[0;34m\u001b[0m\u001b[0m\n\u001b[0;32m---> 19\u001b[0;31m         \u001b[0mnew_state\u001b[0m\u001b[0;34m,\u001b[0m \u001b[0mreward\u001b[0m\u001b[0;34m,\u001b[0m \u001b[0mdone\u001b[0m\u001b[0;34m,\u001b[0m \u001b[0m_\u001b[0m \u001b[0;34m=\u001b[0m \u001b[0menv\u001b[0m\u001b[0;34m.\u001b[0m\u001b[0mstep\u001b[0m\u001b[0;34m(\u001b[0m\u001b[0mact\u001b[0m\u001b[0;34m)\u001b[0m\u001b[0;34m\u001b[0m\u001b[0;34m\u001b[0m\u001b[0m\n\u001b[0m\u001b[1;32m     20\u001b[0m \u001b[0;34m\u001b[0m\u001b[0m\n\u001b[1;32m     21\u001b[0m         \u001b[0mscore\u001b[0m \u001b[0;34m+=\u001b[0m \u001b[0mreward\u001b[0m\u001b[0;34m\u001b[0m\u001b[0;34m\u001b[0m\u001b[0m\n",
            "\u001b[0;32m/usr/local/lib/python3.7/dist-packages/gym/core.py\u001b[0m in \u001b[0;36mstep\u001b[0;34m(self, action)\u001b[0m\n\u001b[1;32m    266\u001b[0m \u001b[0;34m\u001b[0m\u001b[0m\n\u001b[1;32m    267\u001b[0m     \u001b[0;32mdef\u001b[0m \u001b[0mstep\u001b[0m\u001b[0;34m(\u001b[0m\u001b[0mself\u001b[0m\u001b[0;34m,\u001b[0m \u001b[0maction\u001b[0m\u001b[0;34m)\u001b[0m\u001b[0;34m:\u001b[0m\u001b[0;34m\u001b[0m\u001b[0;34m\u001b[0m\u001b[0m\n\u001b[0;32m--> 268\u001b[0;31m         \u001b[0mobservation\u001b[0m\u001b[0;34m,\u001b[0m \u001b[0mreward\u001b[0m\u001b[0;34m,\u001b[0m \u001b[0mdone\u001b[0m\u001b[0;34m,\u001b[0m \u001b[0minfo\u001b[0m \u001b[0;34m=\u001b[0m \u001b[0mself\u001b[0m\u001b[0;34m.\u001b[0m\u001b[0menv\u001b[0m\u001b[0;34m.\u001b[0m\u001b[0mstep\u001b[0m\u001b[0;34m(\u001b[0m\u001b[0maction\u001b[0m\u001b[0;34m)\u001b[0m\u001b[0;34m\u001b[0m\u001b[0;34m\u001b[0m\u001b[0m\n\u001b[0m\u001b[1;32m    269\u001b[0m         \u001b[0;32mreturn\u001b[0m \u001b[0mself\u001b[0m\u001b[0;34m.\u001b[0m\u001b[0mobservation\u001b[0m\u001b[0;34m(\u001b[0m\u001b[0mobservation\u001b[0m\u001b[0;34m)\u001b[0m\u001b[0;34m,\u001b[0m \u001b[0mreward\u001b[0m\u001b[0;34m,\u001b[0m \u001b[0mdone\u001b[0m\u001b[0;34m,\u001b[0m \u001b[0minfo\u001b[0m\u001b[0;34m\u001b[0m\u001b[0;34m\u001b[0m\u001b[0m\n\u001b[1;32m    270\u001b[0m \u001b[0;34m\u001b[0m\u001b[0m\n",
            "\u001b[0;32m<ipython-input-5-6b537ddef40e>\u001b[0m in \u001b[0;36mstep\u001b[0;34m(self, action)\u001b[0m\n\u001b[1;32m     11\u001b[0m         \u001b[0;32mfor\u001b[0m \u001b[0mi\u001b[0m \u001b[0;32min\u001b[0m \u001b[0mrange\u001b[0m\u001b[0;34m(\u001b[0m\u001b[0mself\u001b[0m\u001b[0;34m.\u001b[0m\u001b[0m_skip\u001b[0m\u001b[0;34m)\u001b[0m\u001b[0;34m:\u001b[0m\u001b[0;34m\u001b[0m\u001b[0;34m\u001b[0m\u001b[0m\n\u001b[1;32m     12\u001b[0m             \u001b[0;31m# Accumulate reward and repeat the same action\u001b[0m\u001b[0;34m\u001b[0m\u001b[0;34m\u001b[0m\u001b[0;34m\u001b[0m\u001b[0m\n\u001b[0;32m---> 13\u001b[0;31m             \u001b[0mobs\u001b[0m\u001b[0;34m,\u001b[0m \u001b[0mreward\u001b[0m\u001b[0;34m,\u001b[0m \u001b[0mdone\u001b[0m\u001b[0;34m,\u001b[0m \u001b[0minfo\u001b[0m \u001b[0;34m=\u001b[0m \u001b[0mself\u001b[0m\u001b[0;34m.\u001b[0m\u001b[0menv\u001b[0m\u001b[0;34m.\u001b[0m\u001b[0mstep\u001b[0m\u001b[0;34m(\u001b[0m\u001b[0maction\u001b[0m\u001b[0;34m)\u001b[0m\u001b[0;34m\u001b[0m\u001b[0;34m\u001b[0m\u001b[0m\n\u001b[0m\u001b[1;32m     14\u001b[0m             \u001b[0mtotal_reward\u001b[0m \u001b[0;34m+=\u001b[0m \u001b[0mreward\u001b[0m\u001b[0;34m\u001b[0m\u001b[0;34m\u001b[0m\u001b[0m\n\u001b[1;32m     15\u001b[0m             \u001b[0;32mif\u001b[0m \u001b[0mdone\u001b[0m\u001b[0;34m:\u001b[0m\u001b[0;34m\u001b[0m\u001b[0;34m\u001b[0m\u001b[0m\n",
            "\u001b[0;32m/usr/local/lib/python3.7/dist-packages/minihack/base.py\u001b[0m in \u001b[0;36mstep\u001b[0;34m(self, action)\u001b[0m\n\u001b[1;32m    319\u001b[0m         \u001b[0;31m# Within this call, _is_episode_end is called and then _reward_fn,\u001b[0m\u001b[0;34m\u001b[0m\u001b[0;34m\u001b[0m\u001b[0;34m\u001b[0m\u001b[0m\n\u001b[1;32m    320\u001b[0m         \u001b[0;31m# both using self.reward_manager\u001b[0m\u001b[0;34m\u001b[0m\u001b[0;34m\u001b[0m\u001b[0;34m\u001b[0m\u001b[0m\n\u001b[0;32m--> 321\u001b[0;31m         \u001b[0;32mreturn\u001b[0m \u001b[0msuper\u001b[0m\u001b[0;34m(\u001b[0m\u001b[0;34m)\u001b[0m\u001b[0;34m.\u001b[0m\u001b[0mstep\u001b[0m\u001b[0;34m(\u001b[0m\u001b[0maction\u001b[0m\u001b[0;34m)\u001b[0m\u001b[0;34m\u001b[0m\u001b[0;34m\u001b[0m\u001b[0m\n\u001b[0m\u001b[1;32m    322\u001b[0m \u001b[0;34m\u001b[0m\u001b[0m\n\u001b[1;32m    323\u001b[0m     \u001b[0;32mdef\u001b[0m \u001b[0m_is_episode_end\u001b[0m\u001b[0;34m(\u001b[0m\u001b[0mself\u001b[0m\u001b[0;34m,\u001b[0m \u001b[0mobservation\u001b[0m\u001b[0;34m)\u001b[0m\u001b[0;34m:\u001b[0m\u001b[0;34m\u001b[0m\u001b[0;34m\u001b[0m\u001b[0m\n",
            "\u001b[0;32m/usr/local/lib/python3.7/dist-packages/nle/env/base.py\u001b[0m in \u001b[0;36mstep\u001b[0;34m(self, action)\u001b[0m\n\u001b[1;32m    386\u001b[0m         \u001b[0;32mif\u001b[0m \u001b[0mis_game_over\u001b[0m \u001b[0;32mor\u001b[0m \u001b[0;32mnot\u001b[0m \u001b[0mself\u001b[0m\u001b[0;34m.\u001b[0m\u001b[0m_allow_all_modes\u001b[0m\u001b[0;34m:\u001b[0m\u001b[0;34m\u001b[0m\u001b[0;34m\u001b[0m\u001b[0m\n\u001b[1;32m    387\u001b[0m             observation, done = self._perform_known_steps(\n\u001b[0;32m--> 388\u001b[0;31m                 \u001b[0mobservation\u001b[0m\u001b[0;34m,\u001b[0m \u001b[0mdone\u001b[0m\u001b[0;34m,\u001b[0m \u001b[0mexceptions\u001b[0m\u001b[0;34m=\u001b[0m\u001b[0;32mTrue\u001b[0m\u001b[0;34m\u001b[0m\u001b[0;34m\u001b[0m\u001b[0m\n\u001b[0m\u001b[1;32m    389\u001b[0m             )\n\u001b[1;32m    390\u001b[0m \u001b[0;34m\u001b[0m\u001b[0m\n",
            "\u001b[0;32m/usr/local/lib/python3.7/dist-packages/nle/env/base.py\u001b[0m in \u001b[0;36m_perform_known_steps\u001b[0;34m(self, observation, done, exceptions)\u001b[0m\n\u001b[1;32m    636\u001b[0m         \u001b[0;32mwhile\u001b[0m \u001b[0;32mnot\u001b[0m \u001b[0mdone\u001b[0m\u001b[0;34m:\u001b[0m\u001b[0;34m\u001b[0m\u001b[0;34m\u001b[0m\u001b[0m\n\u001b[1;32m    637\u001b[0m             \u001b[0;32mif\u001b[0m \u001b[0mobservation\u001b[0m\u001b[0;34m[\u001b[0m\u001b[0mself\u001b[0m\u001b[0;34m.\u001b[0m\u001b[0m_internal_index\u001b[0m\u001b[0;34m]\u001b[0m\u001b[0;34m[\u001b[0m\u001b[0;36m3\u001b[0m\u001b[0;34m]\u001b[0m\u001b[0;34m:\u001b[0m  \u001b[0;31m# xwaitforspace\u001b[0m\u001b[0;34m\u001b[0m\u001b[0;34m\u001b[0m\u001b[0m\n\u001b[0;32m--> 638\u001b[0;31m                 \u001b[0mobservation\u001b[0m\u001b[0;34m,\u001b[0m \u001b[0mdone\u001b[0m \u001b[0;34m=\u001b[0m \u001b[0mself\u001b[0m\u001b[0;34m.\u001b[0m\u001b[0menv\u001b[0m\u001b[0;34m.\u001b[0m\u001b[0mstep\u001b[0m\u001b[0;34m(\u001b[0m\u001b[0mASCII_SPACE\u001b[0m\u001b[0;34m)\u001b[0m\u001b[0;34m\u001b[0m\u001b[0;34m\u001b[0m\u001b[0m\n\u001b[0m\u001b[1;32m    639\u001b[0m                 \u001b[0;32mcontinue\u001b[0m\u001b[0;34m\u001b[0m\u001b[0;34m\u001b[0m\u001b[0m\n\u001b[1;32m    640\u001b[0m \u001b[0;34m\u001b[0m\u001b[0m\n",
            "\u001b[0;32m/usr/local/lib/python3.7/dist-packages/nle/nethack/nethack.py\u001b[0m in \u001b[0;36mstep\u001b[0;34m(self, action)\u001b[0m\n\u001b[1;32m    154\u001b[0m \u001b[0;34m\u001b[0m\u001b[0m\n\u001b[1;32m    155\u001b[0m     \u001b[0;32mdef\u001b[0m \u001b[0mstep\u001b[0m\u001b[0;34m(\u001b[0m\u001b[0mself\u001b[0m\u001b[0;34m,\u001b[0m \u001b[0maction\u001b[0m\u001b[0;34m)\u001b[0m\u001b[0;34m:\u001b[0m\u001b[0;34m\u001b[0m\u001b[0;34m\u001b[0m\u001b[0m\n\u001b[0;32m--> 156\u001b[0;31m         \u001b[0mself\u001b[0m\u001b[0;34m.\u001b[0m\u001b[0m_pynethack\u001b[0m\u001b[0;34m.\u001b[0m\u001b[0mstep\u001b[0m\u001b[0;34m(\u001b[0m\u001b[0maction\u001b[0m\u001b[0;34m)\u001b[0m\u001b[0;34m\u001b[0m\u001b[0;34m\u001b[0m\u001b[0m\n\u001b[0m\u001b[1;32m    157\u001b[0m         \u001b[0;32mreturn\u001b[0m \u001b[0mself\u001b[0m\u001b[0;34m.\u001b[0m\u001b[0m_step_return\u001b[0m\u001b[0;34m(\u001b[0m\u001b[0;34m)\u001b[0m\u001b[0;34m,\u001b[0m \u001b[0mself\u001b[0m\u001b[0;34m.\u001b[0m\u001b[0m_pynethack\u001b[0m\u001b[0;34m.\u001b[0m\u001b[0mdone\u001b[0m\u001b[0;34m(\u001b[0m\u001b[0;34m)\u001b[0m\u001b[0;34m\u001b[0m\u001b[0;34m\u001b[0m\u001b[0m\n\u001b[1;32m    158\u001b[0m \u001b[0;34m\u001b[0m\u001b[0m\n",
            "\u001b[0;31mKeyboardInterrupt\u001b[0m: "
          ]
        }
      ]
    },
    {
      "cell_type": "markdown",
      "metadata": {
        "id": "f9EKN-P8ejiR"
      },
      "source": [
        "# Plots"
      ],
      "id": "f9EKN-P8ejiR"
    },
    {
      "cell_type": "markdown",
      "metadata": {
        "id": "spz4Hxx7emB8"
      },
      "source": [
        "# Visualise environment"
      ],
      "id": "spz4Hxx7emB8"
    },
    {
      "cell_type": "markdown",
      "metadata": {
        "id": "3BbAJiMjg3Zq"
      },
      "source": [
        "## 1. Install rendering libraries"
      ],
      "id": "3BbAJiMjg3Zq"
    },
    {
      "cell_type": "code",
      "metadata": {
        "id": "vJYx2LA7h8eZ"
      },
      "source": [
        "!pip install gym pyvirtualdisplay > /dev/null 2>&1\n",
        "!apt-get install -y xvfb python-opengl ffmpeg > /dev/null 2>&1"
      ],
      "id": "vJYx2LA7h8eZ",
      "execution_count": null,
      "outputs": []
    },
    {
      "cell_type": "markdown",
      "metadata": {
        "id": "XgGgUAWyh9l-"
      },
      "source": [
        "## 2. Import rendering libraries"
      ],
      "id": "XgGgUAWyh9l-"
    },
    {
      "cell_type": "code",
      "metadata": {
        "id": "DKRZoVjXeqLc"
      },
      "source": [
        "from gym import logger as gymlogger\n",
        "from gym.wrappers import Monitor\n",
        "gymlogger.set_level(40) #error only\n",
        "\n",
        "import math\n",
        "import glob\n",
        "import io\n",
        "import base64\n",
        "from IPython.display import HTML\n",
        "from IPython import display as ipythondisplay"
      ],
      "id": "DKRZoVjXeqLc",
      "execution_count": null,
      "outputs": []
    },
    {
      "cell_type": "markdown",
      "metadata": {
        "id": "EZuaWDMkhHRt"
      },
      "source": [
        "## 3. Create virtual display"
      ],
      "id": "EZuaWDMkhHRt"
    },
    {
      "cell_type": "code",
      "metadata": {
        "colab": {
          "base_uri": "https://localhost:8080/"
        },
        "id": "Pa4uKijDhbn-",
        "outputId": "6f54aebf-6117-4275-e8df-649a75f52c80"
      },
      "source": [
        "from pyvirtualdisplay import Display\n",
        "display = Display(visible=0, size=(1400, 900))\n",
        "display.start()"
      ],
      "id": "Pa4uKijDhbn-",
      "execution_count": null,
      "outputs": [
        {
          "output_type": "execute_result",
          "data": {
            "text/plain": [
              "<pyvirtualdisplay.display.Display at 0x7f22d3b97b50>"
            ]
          },
          "metadata": {},
          "execution_count": 13
        }
      ]
    },
    {
      "cell_type": "markdown",
      "metadata": {
        "id": "puQNVyVVhhFV"
      },
      "source": [
        "## 4. Render function"
      ],
      "id": "puQNVyVVhhFV"
    },
    {
      "cell_type": "code",
      "metadata": {
        "id": "XxUpvrpGhjtJ"
      },
      "source": [
        "def show_video():\n",
        "  mp4list = glob.glob('video/*.mp4')\n",
        "  if len(mp4list) > 0:\n",
        "    mp4 = mp4list[0]\n",
        "    video = io.open(mp4, 'r+b').read()\n",
        "    encoded = base64.b64encode(video)\n",
        "    ipythondisplay.display(HTML(data='''<video alt=\"test\" autoplay \n",
        "                loop controls style=\"height: 400px;\">\n",
        "                <source src=\"data:video/mp4;base64,{0}\" type=\"video/mp4\" />\n",
        "             </video>'''.format(encoded.decode('ascii'))))\n",
        "  else: \n",
        "    print(\"Could not find video\")"
      ],
      "id": "XxUpvrpGhjtJ",
      "execution_count": null,
      "outputs": []
    },
    {
      "cell_type": "markdown",
      "metadata": {
        "id": "MyJJ7nIzjTMF"
      },
      "source": [
        "## 5. Gym wrapper for rendering"
      ],
      "id": "MyJJ7nIzjTMF"
    },
    {
      "cell_type": "code",
      "metadata": {
        "id": "veFISo-LjaWQ"
      },
      "source": [
        "cv2.ocl.setUseOpenCL(False)\n",
        "\n",
        "class RenderRGB(gym.Wrapper):\n",
        "    def __init__(self, env, key_name=\"pixel\"):\n",
        "        super().__init__(env)\n",
        "        self.last_pixels = None\n",
        "        self.viewer = None\n",
        "        self.key_name = key_name\n",
        "\n",
        "        render_modes = env.metadata['render.modes']\n",
        "        render_modes.append(\"rgb_array\")\n",
        "        env.metadata['render.modes'] = render_modes\n",
        "\n",
        "    def step(self, action):\n",
        "        obs, reward, done, info = self.env.step(action)\n",
        "        # self.last_pixels = obs[self.key_name]\n",
        "        self.last_pixels = obs\n",
        "        return obs, reward, done, info\n",
        "\n",
        "    def render(self, mode=\"human\", **kwargs):\n",
        "        img = self.last_pixels\n",
        "        img = np.swapaxes(img,0,2)\n",
        "        # print(test.shape)\n",
        "\n",
        "        # Hacky but works\n",
        "        if mode != \"human\":\n",
        "            return img\n",
        "        else:\n",
        "            from gym.envs.classic_control import rendering\n",
        "\n",
        "            if self.viewer is None:\n",
        "                self.viewer = rendering.SimpleImageViewer()\n",
        "            self.viewer.imshow(img)\n",
        "            return self.viewer.isopen\n",
        "\n",
        "    def reset(self):\n",
        "        obs = self.env.reset()\n",
        "        # self.last_pixels = obs[self.key_name]\n",
        "        self.last_pixels = obs\n",
        "        return obs\n",
        "\n",
        "    def close(self):\n",
        "        if self.viewer is not None:\n",
        "            self.viewer.close()\n",
        "            self.viewer = None"
      ],
      "id": "veFISo-LjaWQ",
      "execution_count": null,
      "outputs": []
    },
    {
      "cell_type": "markdown",
      "metadata": {
        "id": "TC1r0tLvjqhE"
      },
      "source": [
        "## Visualise"
      ],
      "id": "TC1r0tLvjqhE"
    },
    {
      "cell_type": "code",
      "metadata": {
        "id": "zhgMBvQOF053"
      },
      "source": [
        "def visual(env,agent ,num_episodes=50):\n",
        "  vis_scores = []\n",
        "\n",
        "\n",
        "  for ep in range(num_episodes):\n",
        "    state = env.reset()\n",
        "    score = 0\n",
        "\n",
        "    while True:\n",
        "      env.render()\n",
        "\n",
        "      act, log_prob = agent.choose_action(np.array(state))\n",
        "      new_state, reward, done, info = env.step(act)\n",
        "      score += reward\n",
        "      if done:\n",
        "        break\n",
        "      state = new_state\n",
        "    \n",
        "    vis_scores.append(score)\n",
        "\n",
        "  env.close()\n",
        "  show_video()\n",
        "\n",
        "  return vis_scores"
      ],
      "id": "zhgMBvQOF053",
      "execution_count": null,
      "outputs": []
    },
    {
      "cell_type": "code",
      "metadata": {
        "id": "zo7N1uvXx0Uj"
      },
      "source": [
        "path = f'./model_chkpts/model_7000_Nov-10-2021_21:28.pt'\n",
        "agent = Agent(env_obs_space, env.action_space.n,\n",
        "              policy_model, optimizer, gamma=hyper_params['gamma'])\n",
        "start_ep = agent.load_checkpoint(path)"
      ],
      "id": "zo7N1uvXx0Uj",
      "execution_count": null,
      "outputs": []
    },
    {
      "cell_type": "code",
      "metadata": {
        "colab": {
          "base_uri": "https://localhost:8080/",
          "height": 421
        },
        "id": "x4j7lSpIjyJv",
        "outputId": "e30bf6db-7c67-440b-be50-22f222e3b7a6"
      },
      "source": [
        "env = gym.make(hyper_params['env'], observation_keys=(hyper_params['obs-type'],))\n",
        "env = PyTorchFrame(env,hyper_params['obs-type'])\n",
        "env = RenderRGB(env, 'pixel_crop')\n",
        "env = gym.wrappers.Monitor(env, \"video\", force=True)\n",
        "\n",
        "scores = visual(env,agent)"
      ],
      "id": "x4j7lSpIjyJv",
      "execution_count": null,
      "outputs": [
        {
          "output_type": "display_data",
          "data": {
            "text/html": [
              "<video alt=\"test\" autoplay \n",
              "                loop controls style=\"height: 400px;\">\n",
              "                <source src=\"data:video/mp4;base64,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\" type=\"video/mp4\" />\n",
              "             </video>"
            ],
            "text/plain": [
              "<IPython.core.display.HTML object>"
            ]
          },
          "metadata": {}
        }
      ]
    },
    {
      "cell_type": "code",
      "metadata": {
        "id": "NFmI3Ew9GLNZ"
      },
      "source": [
        ""
      ],
      "id": "NFmI3Ew9GLNZ",
      "execution_count": null,
      "outputs": []
    }
  ]
}